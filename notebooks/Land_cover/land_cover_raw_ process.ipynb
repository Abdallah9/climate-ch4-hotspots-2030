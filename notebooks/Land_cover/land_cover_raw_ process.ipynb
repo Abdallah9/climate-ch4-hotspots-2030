{
 "cells": [
  {
   "cell_type": "code",
   "execution_count": 1,
   "id": "ddd04f4b-0922-4ed3-861c-c70bde9c642f",
   "metadata": {},
   "outputs": [],
   "source": [
    "import xarray as xr\n",
    "\n",
    "ds = xr.open_dataset(\"GIEMS-MC_compressed.nc\")\n",
    "\n",
    "land_cover = ds[\"dom_land_cover_class\"]\n",
    "\n",
    "# Clip to Canada bounding box\n",
    "land_cover_canada = land_cover.sel(\n",
    "    latitude=slice(40, 85),\n",
    "    longitude=slice(-141, -52)\n",
    ")\n",
    "\n",
    "# Optional: Save clipped as NetCDF\n",
    "land_cover_canada.to_netcdf(\"LandCover_Canada_Static.nc\")\n"
   ]
  },
  {
   "cell_type": "code",
   "execution_count": 4,
   "id": "f3947eed-0a64-4b0e-8159-e82ac867afa7",
   "metadata": {},
   "outputs": [
    {
     "name": "stdout",
     "output_type": "stream",
     "text": [
      "<xarray.Dataset> Size: 258kB\n",
      "Dimensions:               (latitude: 180, longitude: 356)\n",
      "Coordinates:\n",
      "  * latitude              (latitude) float32 720B 40.12 40.38 ... 84.62 84.88\n",
      "  * longitude             (longitude) float32 1kB -140.9 -140.6 ... -52.12\n",
      "Data variables:\n",
      "    dom_land_cover_class  (latitude, longitude) int32 256kB ...\n"
     ]
    }
   ],
   "source": [
    "print(xr.open_dataset(\"LandCover_Canada_Static.nc\"))\n"
   ]
  },
  {
   "cell_type": "code",
   "execution_count": null,
   "id": "0d3704b7-ae5f-4af5-be56-6c3489bbdeff",
   "metadata": {},
   "outputs": [],
   "source": []
  }
 ],
 "metadata": {
  "kernelspec": {
   "display_name": "Python 3 (ipykernel)",
   "language": "python",
   "name": "python3"
  },
  "language_info": {
   "codemirror_mode": {
    "name": "ipython",
    "version": 3
   },
   "file_extension": ".py",
   "mimetype": "text/x-python",
   "name": "python",
   "nbconvert_exporter": "python",
   "pygments_lexer": "ipython3",
   "version": "3.11.5"
  }
 },
 "nbformat": 4,
 "nbformat_minor": 5
}
