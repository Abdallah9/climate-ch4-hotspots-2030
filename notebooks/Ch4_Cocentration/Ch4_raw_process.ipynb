{
 "cells": [
  {
   "cell_type": "code",
   "execution_count": 1,
   "id": "b44658fc-0a46-4018-a17c-c20da2b465c9",
   "metadata": {},
   "outputs": [
    {
     "name": "stdout",
     "output_type": "stream",
     "text": [
      "Data variables:\n",
      "    tc_ch4   (valid_time, latitude, longitude) float32 143MB ...\n"
     ]
    },
    {
     "name": "stderr",
     "output_type": "stream",
     "text": [
      "/Users/abdee/Desktop/Capston_1/Capstone_1/lib/python3.11/site-packages/xarray/groupers.py:509: FutureWarning: 'Y' is deprecated and will be removed in a future version, please use 'YE' instead.\n",
      "  self.index_grouper = pd.Grouper(\n"
     ]
    }
   ],
   "source": [
    "import xarray as xr\n",
    "\n",
    "# Load only needed variable and resample\n",
    "ds = xr.open_dataset(\"data_sfc_Ch4.nc\")\n",
    "\n",
    "# Confirm variable name\n",
    "print(ds.data_vars)  # Should list 'tc_ch4'\n",
    "\n",
    "# Resample to annual mean\n",
    "ds_annual = ds.resample(valid_time='1Y').mean()\n",
    "\n",
    "# Drop unnecessary precision and save to new file\n",
    "ds_annual.to_netcdf(\"data_sfc_Ch4_annual.nc\")\n"
   ]
  },
  {
   "cell_type": "code",
   "execution_count": null,
   "id": "93eebb97-681b-4513-8298-131b3462b368",
   "metadata": {},
   "outputs": [],
   "source": []
  },
  {
   "cell_type": "code",
   "execution_count": 2,
   "id": "65d1e0cf-8d7d-4a9e-b33f-911b093cb825",
   "metadata": {},
   "outputs": [
    {
     "name": "stdout",
     "output_type": "stream",
     "text": [
      "Data variables:\n",
      "    tc_ch4   (valid_time, latitude, longitude) float32 143MB ...\n"
     ]
    },
    {
     "name": "stderr",
     "output_type": "stream",
     "text": [
      "/Users/abdee/Desktop/Capston_1/Capstone_1/lib/python3.11/site-packages/xarray/groupers.py:509: FutureWarning: 'Y' is deprecated and will be removed in a future version, please use 'YE' instead.\n",
      "  self.index_grouper = pd.Grouper(\n"
     ]
    },
    {
     "name": "stdout",
     "output_type": "stream",
     "text": [
      "✅ Saved: data_sfc_Ch4_annual.nc with renamed variable and annual data\n"
     ]
    }
   ],
   "source": [
    "import xarray as xr\n",
    "\n",
    "# Step 1: Load the original dataset\n",
    "ds = xr.open_dataset(\"data_sfc_Ch4.nc\")\n",
    "\n",
    "# Step 2: Check variable name and preview\n",
    "print(ds.data_vars)  # Should list 'tc_ch4'\n",
    "\n",
    "# Step 3: Resample to yearly means\n",
    "ds_annual = ds.resample(valid_time='1Y').mean()\n",
    "\n",
    "# Step 4: Rename variable and time coordinate\n",
    "ds_annual = ds_annual.rename({\n",
    "    'tc_ch4': 'ch4_concentration',   # Rename variable\n",
    "    'valid_time': 'time'             # Optional: rename time to standard name\n",
    "})\n",
    "\n",
    "# Step 5: Save lightweight, clean version\n",
    "ds_annual.to_netcdf(\"data_sfc_Ch4_annual.nc\")\n",
    "\n",
    "print(\"✅ Saved: data_sfc_Ch4_annual.nc with renamed variable and annual data\")\n"
   ]
  },
  {
   "cell_type": "code",
   "execution_count": null,
   "id": "6db58aec-8ddf-4565-ba68-55c1236429ea",
   "metadata": {},
   "outputs": [],
   "source": []
  },
  {
   "cell_type": "code",
   "execution_count": 3,
   "id": "c7736fbf-08d5-4418-b517-8e618acbfe50",
   "metadata": {},
   "outputs": [
    {
     "name": "stdout",
     "output_type": "stream",
     "text": [
      "<xarray.Dataset> Size: 143MB\n",
      "Dimensions:     (valid_time: 5479, latitude: 55, longitude: 119)\n",
      "Coordinates:\n",
      "  * valid_time  (valid_time) datetime64[ns] 44kB 2010-01-01 ... 2024-12-31\n",
      "  * latitude    (latitude) float64 440B 82.5 81.75 81.0 ... 43.5 42.75 42.0\n",
      "  * longitude   (longitude) float64 952B -141.0 -140.2 -139.5 ... -53.25 -52.5\n",
      "Data variables:\n",
      "    tc_ch4      (valid_time, latitude, longitude) float32 143MB ...\n",
      "Attributes:\n",
      "    GRIB_centre:             ecmf\n",
      "    GRIB_centreDescription:  European Centre for Medium-Range Weather Forecasts\n",
      "    GRIB_subCentre:          0\n",
      "    Conventions:             CF-1.7\n",
      "    institution:             European Centre for Medium-Range Weather Forecasts\n",
      "    history:                 2025-07-22T12:25 GRIB to CDM+CF via cfgrib-0.9.1...\n",
      "Original value range: 0.006683891639113426 to 0.010830525308847427\n",
      "Sample values: [[0.00977001 0.00976503 0.00976023 ... 0.00980132 0.00977913 0.00975483]\n",
      " [0.00975087 0.00974538 0.0097411  ... 0.00932284 0.00934319 0.00936524]\n",
      " [0.00972623 0.00972017 0.00971508 ... 0.00851854 0.00851191 0.00850612]\n",
      " ...\n",
      " [0.00989725 0.00986438 0.00983098 ... 0.01009643 0.01009084 0.01008135]\n",
      " [0.00994495 0.00991602 0.00989241 ... 0.01009302 0.01008652 0.01008274]\n",
      " [0.00997828 0.00997151 0.0099545  ... 0.01009132 0.01008404 0.01007824]]\n"
     ]
    }
   ],
   "source": [
    "import xarray as xr\n",
    "\n",
    "ds = xr.open_dataset(\"data_sfc_Ch4.nc\")\n",
    "print(ds)\n",
    "\n",
    "# Check basic stats\n",
    "tc = ds['tc_ch4']\n",
    "print(\"Original value range:\", float(tc.min()), \"to\", float(tc.max()))\n",
    "print(\"Sample values:\", tc.isel(valid_time=0).values)\n"
   ]
  },
  {
   "cell_type": "code",
   "execution_count": null,
   "id": "9e24ad97-ec96-4aa8-9f0a-50f6ef1eef26",
   "metadata": {},
   "outputs": [],
   "source": []
  },
  {
   "cell_type": "code",
   "execution_count": 4,
   "id": "644c7368-ec6d-48d3-8a8d-f84d00b3e299",
   "metadata": {},
   "outputs": [
    {
     "name": "stdout",
     "output_type": "stream",
     "text": [
      "Post-rename value range: 0.007131550926715136 to 0.010327703319489956\n"
     ]
    }
   ],
   "source": [
    "ds = xr.open_dataset(\"data_sfc_Ch4_annual.nc\")\n",
    "print(\"Post-rename value range:\", float(ds['ch4_concentration'].min()), \"to\", float(ds['ch4_concentration'].max()))\n"
   ]
  },
  {
   "cell_type": "code",
   "execution_count": null,
   "id": "bbb1a29c-7349-440f-84e8-2477fd9485c6",
   "metadata": {},
   "outputs": [],
   "source": []
  },
  {
   "cell_type": "code",
   "execution_count": null,
   "id": "5be53861-7f5b-4c4d-b547-1b39cc605879",
   "metadata": {},
   "outputs": [],
   "source": []
  },
  {
   "cell_type": "code",
   "execution_count": null,
   "id": "a87275fe-d48c-4e7e-b496-cb832b8f7a71",
   "metadata": {},
   "outputs": [],
   "source": []
  },
  {
   "cell_type": "code",
   "execution_count": null,
   "id": "cfeaff17-b815-4e7a-ac50-294581630d56",
   "metadata": {},
   "outputs": [],
   "source": []
  },
  {
   "cell_type": "code",
   "execution_count": null,
   "id": "c0f99a9c-02b7-416d-a45f-9aa14b51820f",
   "metadata": {},
   "outputs": [],
   "source": []
  },
  {
   "cell_type": "code",
   "execution_count": null,
   "id": "331ac0fa-d1f6-463d-ab01-a5eb21cee3df",
   "metadata": {},
   "outputs": [],
   "source": []
  },
  {
   "cell_type": "code",
   "execution_count": null,
   "id": "0f624874-c35e-4bb7-86cb-3df29704924c",
   "metadata": {},
   "outputs": [],
   "source": []
  },
  {
   "cell_type": "code",
   "execution_count": null,
   "id": "fe3e0055-c7a2-46ab-9ce8-638c460b6ac3",
   "metadata": {},
   "outputs": [],
   "source": []
  },
  {
   "cell_type": "code",
   "execution_count": null,
   "id": "eaa596c3-1b85-4d74-af8a-282fcdfde197",
   "metadata": {},
   "outputs": [],
   "source": []
  },
  {
   "cell_type": "code",
   "execution_count": null,
   "id": "bb57cfd6-eab8-4b77-af27-6e69c78dc3ab",
   "metadata": {},
   "outputs": [],
   "source": []
  },
  {
   "cell_type": "code",
   "execution_count": null,
   "id": "ef9b9403-b787-4bfe-b313-45b426ae1e5c",
   "metadata": {},
   "outputs": [],
   "source": []
  },
  {
   "cell_type": "code",
   "execution_count": null,
   "id": "eb3c1c01-081c-4326-ab44-e84f313dbe9d",
   "metadata": {},
   "outputs": [],
   "source": []
  },
  {
   "cell_type": "code",
   "execution_count": null,
   "id": "23310902-7bcb-4e46-9bd5-d1f76f746801",
   "metadata": {},
   "outputs": [],
   "source": []
  }
 ],
 "metadata": {
  "kernelspec": {
   "display_name": "Python 3 (ipykernel)",
   "language": "python",
   "name": "python3"
  },
  "language_info": {
   "codemirror_mode": {
    "name": "ipython",
    "version": 3
   },
   "file_extension": ".py",
   "mimetype": "text/x-python",
   "name": "python",
   "nbconvert_exporter": "python",
   "pygments_lexer": "ipython3",
   "version": "3.11.5"
  }
 },
 "nbformat": 4,
 "nbformat_minor": 5
}
