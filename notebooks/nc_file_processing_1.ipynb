{
 "cells": [
  {
   "cell_type": "code",
   "execution_count": 7,
   "id": "65a72c2c-e190-4d98-b876-7f36745406e2",
   "metadata": {},
   "outputs": [
    {
     "name": "stdout",
     "output_type": "stream",
     "text": [
      "Collecting scipy\n",
      "  Obtaining dependency information for scipy from https://files.pythonhosted.org/packages/d9/eb/e931853058607bdfbc11b86df19ae7a08686121c203483f62f1ecae5989c/scipy-1.16.1-cp311-cp311-macosx_14_0_arm64.whl.metadata\n",
      "  Downloading scipy-1.16.1-cp311-cp311-macosx_14_0_arm64.whl.metadata (61 kB)\n",
      "\u001b[2K     \u001b[90m━━━━━━━━━━━━━━━━━━━━━━━━━━━━━━━━━━━━━━━\u001b[0m \u001b[32m62.0/62.0 kB\u001b[0m \u001b[31m852.0 kB/s\u001b[0m eta \u001b[36m0:00:00\u001b[0m \u001b[36m0:00:01\u001b[0m\n",
      "\u001b[?25hRequirement already satisfied: numpy<2.6,>=1.25.2 in /Users/abdee/Desktop/Capstone_Cmt/climate-ch4-hotspots-2030/.venv/lib/python3.11/site-packages (from scipy) (2.3.2)\n",
      "Downloading scipy-1.16.1-cp311-cp311-macosx_14_0_arm64.whl (20.9 MB)\n",
      "\u001b[2K   \u001b[90m━━━━━━━━━━━━━━━━━━━━━━━━━━━━━━━━━━━━━━━━\u001b[0m \u001b[32m20.9/20.9 MB\u001b[0m \u001b[31m45.8 MB/s\u001b[0m eta \u001b[36m0:00:00\u001b[0m00:01\u001b[0m00:01\u001b[0m\n",
      "\u001b[?25hInstalling collected packages: scipy\n",
      "Successfully installed scipy-1.16.1\n",
      "\n",
      "\u001b[1m[\u001b[0m\u001b[34;49mnotice\u001b[0m\u001b[1;39;49m]\u001b[0m\u001b[39;49m A new release of pip is available: \u001b[0m\u001b[31;49m23.2.1\u001b[0m\u001b[39;49m -> \u001b[0m\u001b[32;49m25.2\u001b[0m\n",
      "\u001b[1m[\u001b[0m\u001b[34;49mnotice\u001b[0m\u001b[1;39;49m]\u001b[0m\u001b[39;49m To update, run: \u001b[0m\u001b[32;49mpip install --upgrade pip\u001b[0m\n",
      "Note: you may need to restart the kernel to use updated packages.\n"
     ]
    }
   ],
   "source": [
    "pip install scipy\n"
   ]
  },
  {
   "cell_type": "code",
   "execution_count": null,
   "id": "5312db48-3a28-41c8-928e-22c19bfbb65c",
   "metadata": {},
   "outputs": [],
   "source": [
    "# This will:\n",
    "# 1. Load 5650 daily time steps\n",
    "# 2. Convert coordinates (0-360° → -180-180°)\n",
    "# 3. Subset to Canada\n",
    "# 4. Create annual means (2010-2024)\n",
    "# 5. Resample to 0.1° resolution\n",
    "# 6. Extract to CSV format"
   ]
  },
  {
   "cell_type": "code",
   "execution_count": 1,
   "id": "855a56c9-8a97-469d-852f-9e3ce0d18a36",
   "metadata": {},
   "outputs": [],
   "source": [
    "import pandas as pd "
   ]
  },
  {
   "cell_type": "code",
   "execution_count": 2,
   "id": "3725bf36-33fb-4eb4-a5fa-6cfb97215076",
   "metadata": {},
   "outputs": [
    {
     "name": "stdout",
     "output_type": "stream",
     "text": [
      "=== PROCESSING ERA5 TEMPERATURE DATA ===\n",
      "File: raw/data_stream-oper_stepType-instant.nc\n",
      "Variable: t2m → temperature\n",
      "\n",
      "1. Loading data...\n",
      "   Dimensions: {'valid_time': 5479, 'latitude': 721, 'longitude': 1440}\n",
      "   Time range: 2010-01-01T00:00:00.000000000 to 2024-12-31T00:00:00.000000000\n",
      "\n",
      "2. Converting coordinates...\n",
      "\n",
      "3. Subsetting to Canada...\n",
      "   Canada dimensions: {'valid_time': 5479, 'latitude': 181, 'longitude': 381}\n",
      "\n",
      "4. Creating annual means...\n"
     ]
    },
    {
     "name": "stderr",
     "output_type": "stream",
     "text": [
      "/Users/abdee/Desktop/Capstone_Cmt/climate-ch4-hotspots-2030/notebooks/era5_processor.py:51: FutureWarning: The return type of `Dataset.dims` will be changed to return a set of dimension names in future, in order to be more consistent with `DataArray.dims`. To access a mapping from dimension names to lengths, please use `Dataset.sizes`.\n",
      "  print(f\"   Dimensions: {dict(ds.dims)}\")\n",
      "/Users/abdee/Desktop/Capstone_Cmt/climate-ch4-hotspots-2030/notebooks/era5_processor.py:65: FutureWarning: The return type of `Dataset.dims` will be changed to return a set of dimension names in future, in order to be more consistent with `DataArray.dims`. To access a mapping from dimension names to lengths, please use `Dataset.sizes`.\n",
      "  print(f\"   Canada dimensions: {dict(canada_subset.dims)}\")\n",
      "/Users/abdee/Desktop/Capstone_Cmt/climate-ch4-hotspots-2030/.venv/lib/python3.11/site-packages/xarray/structure/concat.py:547: UserWarning: No index created for dimension year because variable year is not a coordinate. To create an index for year, please first call `.set_coords('year')` on this object.\n",
      "  ds.expand_dims(dim_name, create_index_for_new_dim=create_index_for_new_dim)\n",
      "/Users/abdee/Desktop/Capstone_Cmt/climate-ch4-hotspots-2030/notebooks/era5_processor.py:71: FutureWarning: The return type of `Dataset.dims` will be changed to return a set of dimension names in future, in order to be more consistent with `DataArray.dims`. To access a mapping from dimension names to lengths, please use `Dataset.sizes`.\n",
      "  print(f\"   Annual data: {dict(annual_data.dims)}\")\n"
     ]
    },
    {
     "name": "stdout",
     "output_type": "stream",
     "text": [
      "   Annual data: {'year': 15, 'latitude': 181, 'longitude': 381}\n",
      "   Years: [2010 2011 2012 2013 2014 2015 2016 2017 2018 2019 2020 2021 2022 2023\n",
      " 2024]\n",
      "\n",
      "5. Resampling to 0.1° resolution...\n"
     ]
    },
    {
     "name": "stderr",
     "output_type": "stream",
     "text": [
      "/Users/abdee/Desktop/Capstone_Cmt/climate-ch4-hotspots-2030/notebooks/era5_processor.py:84: FutureWarning: The return type of `Dataset.dims` will be changed to return a set of dimension names in future, in order to be more consistent with `DataArray.dims`. To access a mapping from dimension names to lengths, please use `Dataset.sizes`.\n",
      "  print(f\"   Resampled dimensions: {dict(resampled_data.dims)}\")\n"
     ]
    },
    {
     "name": "stdout",
     "output_type": "stream",
     "text": [
      "   Resampled dimensions: {'year': 15, 'latitude': 451, 'longitude': 951}\n",
      "\n",
      "6. Extracting to CSV...\n",
      "   Valid land pixels: 427,950\n",
      "\n",
      "✅ ERA5 TEMPERATURE DATA COMPLETE!\n",
      "   File: Temperature_2010-2024.csv\n",
      "   Records: 6,419,250\n",
      "   Pixels: 427,950\n",
      "   Range: -27.420 to 25.900\n",
      "\n",
      "   Validation:\n",
      "   - Missing values: 0\n",
      "   - Records per year: 427,950\n",
      "   - Years: 2010-2024\n"
     ]
    }
   ],
   "source": [
    "# Import from ERA5 module\n",
    "from era5_processor import process_temperature\n",
    "# Temperature Features Processing\n",
    "temp_df = process_temperature('raw/data_stream-oper_stepType-instant.nc')"
   ]
  },
  {
   "cell_type": "code",
   "execution_count": 5,
   "id": "dc83d91d-859f-4b8f-9a8a-4039c9932c2e",
   "metadata": {},
   "outputs": [
    {
     "name": "stdout",
     "output_type": "stream",
     "text": [
      "Index(['pixel_id', 'longitude', 'latitude', 'year', 'temperature'], dtype='object')\n",
      "Latitude range: 40.0 to 84.9\n",
      "Longitude range: -145.0 to -50.0\n"
     ]
    }
   ],
   "source": [
    "df = pd.read_csv(\"Temperature_2010-2024.csv\")\n",
    "print(df.columns)\n",
    "print(f\"Latitude range: {df['latitude'].min()} to {df['latitude'].max()}\")\n",
    "print(f\"Longitude range: {df['longitude'].min()} to {df['longitude'].max()}\")"
   ]
  },
  {
   "cell_type": "code",
   "execution_count": null,
   "id": "d57dad90-ad9e-4bca-909e-91f4020e9eca",
   "metadata": {},
   "outputs": [],
   "source": []
  },
  {
   "cell_type": "code",
   "execution_count": 6,
   "id": "44a9841b-6c34-4388-9f2a-2f403787105e",
   "metadata": {},
   "outputs": [
    {
     "name": "stdout",
     "output_type": "stream",
     "text": [
      "=== PROCESSING ERA5 PRECIPITATION DATA ===\n",
      "File: raw/data_stream-oper_stepType-accum.nc\n",
      "Variable: tp → precipitation\n",
      "\n",
      "1. Loading data...\n",
      "   Dimensions: {'valid_time': 5479, 'latitude': 721, 'longitude': 1440}\n",
      "   Time range: 2010-01-01T00:00:00.000000000 to 2024-12-31T00:00:00.000000000\n",
      "\n",
      "2. Converting coordinates...\n",
      "\n",
      "3. Subsetting to Canada...\n",
      "   Canada dimensions: {'valid_time': 5479, 'latitude': 181, 'longitude': 381}\n",
      "\n",
      "4. Creating annual means...\n"
     ]
    },
    {
     "name": "stderr",
     "output_type": "stream",
     "text": [
      "/Users/abdee/Desktop/Capstone_Cmt/climate-ch4-hotspots-2030/notebooks/era5_processor.py:51: FutureWarning: The return type of `Dataset.dims` will be changed to return a set of dimension names in future, in order to be more consistent with `DataArray.dims`. To access a mapping from dimension names to lengths, please use `Dataset.sizes`.\n",
      "  print(f\"   Dimensions: {dict(ds.dims)}\")\n",
      "/Users/abdee/Desktop/Capstone_Cmt/climate-ch4-hotspots-2030/notebooks/era5_processor.py:65: FutureWarning: The return type of `Dataset.dims` will be changed to return a set of dimension names in future, in order to be more consistent with `DataArray.dims`. To access a mapping from dimension names to lengths, please use `Dataset.sizes`.\n",
      "  print(f\"   Canada dimensions: {dict(canada_subset.dims)}\")\n",
      "/Users/abdee/Desktop/Capstone_Cmt/climate-ch4-hotspots-2030/.venv/lib/python3.11/site-packages/xarray/structure/concat.py:547: UserWarning: No index created for dimension year because variable year is not a coordinate. To create an index for year, please first call `.set_coords('year')` on this object.\n",
      "  ds.expand_dims(dim_name, create_index_for_new_dim=create_index_for_new_dim)\n",
      "/Users/abdee/Desktop/Capstone_Cmt/climate-ch4-hotspots-2030/notebooks/era5_processor.py:71: FutureWarning: The return type of `Dataset.dims` will be changed to return a set of dimension names in future, in order to be more consistent with `DataArray.dims`. To access a mapping from dimension names to lengths, please use `Dataset.sizes`.\n",
      "  print(f\"   Annual data: {dict(annual_data.dims)}\")\n",
      "/Users/abdee/Desktop/Capstone_Cmt/climate-ch4-hotspots-2030/notebooks/era5_processor.py:84: FutureWarning: The return type of `Dataset.dims` will be changed to return a set of dimension names in future, in order to be more consistent with `DataArray.dims`. To access a mapping from dimension names to lengths, please use `Dataset.sizes`.\n",
      "  print(f\"   Resampled dimensions: {dict(resampled_data.dims)}\")\n"
     ]
    },
    {
     "name": "stdout",
     "output_type": "stream",
     "text": [
      "   Annual data: {'year': 15, 'latitude': 181, 'longitude': 381}\n",
      "   Years: [2010 2011 2012 2013 2014 2015 2016 2017 2018 2019 2020 2021 2022 2023\n",
      " 2024]\n",
      "\n",
      "5. Resampling to 0.1° resolution...\n",
      "   Resampled dimensions: {'year': 15, 'latitude': 451, 'longitude': 951}\n",
      "\n",
      "6. Extracting to CSV...\n",
      "   Valid land pixels: 427,950\n",
      "\n",
      "✅ ERA5 PRECIPITATION DATA COMPLETE!\n",
      "   File: Precipitation_2010-2024.csv\n",
      "   Records: 6,419,250\n",
      "   Pixels: 427,950\n",
      "   Range: 0.006 to 0.693\n",
      "\n",
      "   Validation:\n",
      "   - Missing values: 0\n",
      "   - Records per year: 427,950\n",
      "   - Years: 2010-2024\n"
     ]
    }
   ],
   "source": [
    "# Import from ERA5 module\n",
    "from era5_processor import process_precipitation\n",
    "# Precipitation Features Processing\n",
    "precip_df = process_precipitation('raw/data_stream-oper_stepType-accum.nc')"
   ]
  },
  {
   "cell_type": "code",
   "execution_count": 7,
   "id": "d3622fe7-bc7c-4f97-b37e-af2073dd8903",
   "metadata": {},
   "outputs": [
    {
     "name": "stdout",
     "output_type": "stream",
     "text": [
      "Index(['pixel_id', 'longitude', 'latitude', 'year', 'precipitation'], dtype='object')\n",
      "Latitude range: 40.0 to 84.9\n",
      "Longitude range: -145.0 to -50.0\n"
     ]
    }
   ],
   "source": [
    "df = pd.read_csv(\"Precipitation_2010-2024.csv\")\n",
    "print(df.columns)\n",
    "print(f\"Latitude range: {df['latitude'].min()} to {df['latitude'].max()}\")\n",
    "print(f\"Longitude range: {df['longitude'].min()} to {df['longitude'].max()}\")"
   ]
  },
  {
   "cell_type": "code",
   "execution_count": null,
   "id": "353f94fe-3d72-49c0-9c74-c0047caa56d9",
   "metadata": {},
   "outputs": [],
   "source": []
  },
  {
   "cell_type": "code",
   "execution_count": 8,
   "id": "7c1098f2-166e-42db-9edc-6f266d6fcb4c",
   "metadata": {},
   "outputs": [
    {
     "name": "stdout",
     "output_type": "stream",
     "text": [
      "=== PROCESSING ERA5 ELEVATION DATA ===\n",
      "File: raw/era5_geopotential_canada.nc\n",
      "Note: Elevation is static - replicating single time step across 2010-2024\n",
      "Elevation range: -92.3m to 3098.8m\n",
      "Valid land pixels: 346,073\n",
      "\n",
      "✅ ELEVATION PROCESSING COMPLETE!\n",
      "   File: Elevation_2010-2024.csv\n",
      "   Records: 5,191,095\n",
      "   Unique pixels: 346,073\n",
      "   Elevation range: 0.0m to 3047.6m\n"
     ]
    }
   ],
   "source": [
    "# Import from ERA5 module\n",
    "from era5_processor import process_elevation\n",
    "\n",
    "# Elevation Features Processing\n",
    "elev_df = process_elevation('raw/era5_geopotential_canada.nc')"
   ]
  },
  {
   "cell_type": "code",
   "execution_count": 9,
   "id": "1c46d3ca-dc2c-4aac-ab4c-601486b8e2bd",
   "metadata": {},
   "outputs": [
    {
     "name": "stdout",
     "output_type": "stream",
     "text": [
      "Index(['pixel_id', 'longitude', 'latitude', 'year', 'elevation'], dtype='object')\n",
      "Latitude range: 40.0 to 84.9\n",
      "Longitude range: -145.0 to -50.0\n"
     ]
    }
   ],
   "source": [
    "df = pd.read_csv(\"Elevation_2010-2024.csv\")\n",
    "print(df.columns)\n",
    "print(f\"Latitude range: {df['latitude'].min()} to {df['latitude'].max()}\")\n",
    "print(f\"Longitude range: {df['longitude'].min()} to {df['longitude'].max()}\")"
   ]
  },
  {
   "cell_type": "code",
   "execution_count": null,
   "id": "ed5ec53e-d269-4662-bcd3-802fe866c086",
   "metadata": {},
   "outputs": [],
   "source": []
  },
  {
   "cell_type": "code",
   "execution_count": 11,
   "id": "86a89abe-02b3-4516-9ceb-b28d2d873390",
   "metadata": {},
   "outputs": [
    {
     "name": "stdout",
     "output_type": "stream",
     "text": [
      "=== PROCESSING LAND COVER DATA ===\n",
      "File: Pre_process/LandCover_Canada_Static.nc\n",
      "Note: Land cover is static - replicating single time step across 2010-2024\n",
      "Valid land pixels: 396,489\n",
      "\n",
      "✅ LAND COVER PROCESSING COMPLETE!\n",
      "   File: LandCover_2010-2024.csv\n",
      "   Records: 5,947,335\n",
      "   Unique pixels: 396,489\n",
      "   Class range: 10 to 220\n"
     ]
    }
   ],
   "source": [
    "# Import from ERA5 module\n",
    "from era5_processor import process_land_cover\n",
    "\n",
    "# Elevation Features Processing\n",
    "land_cover_df = process_land_cover('Pre_process/LandCover_Canada_Static.nc')"
   ]
  },
  {
   "cell_type": "code",
   "execution_count": 12,
   "id": "da4161d5-84b5-4bc8-935e-0d38e553b863",
   "metadata": {},
   "outputs": [
    {
     "name": "stdout",
     "output_type": "stream",
     "text": [
      "Index(['pixel_id', 'longitude', 'latitude', 'year', 'land_cover_class'], dtype='object')\n",
      "Latitude range: 40.2 to 84.8\n",
      "Longitude range: -140.8 to -52.2\n"
     ]
    }
   ],
   "source": [
    "df = pd.read_csv(\"LandCover_2010-2024.csv\")\n",
    "print(df.columns)\n",
    "print(f\"Latitude range: {df['latitude'].min()} to {df['latitude'].max()}\")\n",
    "print(f\"Longitude range: {df['longitude'].min()} to {df['longitude'].max()}\")"
   ]
  },
  {
   "cell_type": "code",
   "execution_count": null,
   "id": "255415f2-95cc-45cb-ac56-d6472016847d",
   "metadata": {},
   "outputs": [],
   "source": []
  },
  {
   "cell_type": "code",
   "execution_count": 13,
   "id": "795517ad-853e-44a3-adfa-7c1d1925badd",
   "metadata": {},
   "outputs": [
    {
     "name": "stdout",
     "output_type": "stream",
     "text": [
      "=== PROCESSING ERA5 SOIL MOISTURE LAYER 1 DATA ===\n",
      "File: raw/_data_stream-oper_stepType-instant.nc\n",
      "Variable: swvl1 → soil_moisture\n",
      "\n",
      "1. Loading data...\n",
      "   Dimensions: {'valid_time': 5650, 'latitude': 721, 'longitude': 1440}\n",
      "   Time range: 2010-01-01T00:00:00.000000000 to 2025-06-20T00:00:00.000000000\n",
      "\n",
      "2. Converting coordinates...\n",
      "\n",
      "3. Subsetting to Canada...\n",
      "   Canada dimensions: {'valid_time': 5650, 'latitude': 181, 'longitude': 381}\n",
      "\n",
      "4. Creating annual means...\n"
     ]
    },
    {
     "name": "stderr",
     "output_type": "stream",
     "text": [
      "/Users/abdee/Desktop/Capstone_Cmt/climate-ch4-hotspots-2030/notebooks/era5_processor.py:51: FutureWarning: The return type of `Dataset.dims` will be changed to return a set of dimension names in future, in order to be more consistent with `DataArray.dims`. To access a mapping from dimension names to lengths, please use `Dataset.sizes`.\n",
      "  print(f\"   Dimensions: {dict(ds.dims)}\")\n",
      "/Users/abdee/Desktop/Capstone_Cmt/climate-ch4-hotspots-2030/notebooks/era5_processor.py:65: FutureWarning: The return type of `Dataset.dims` will be changed to return a set of dimension names in future, in order to be more consistent with `DataArray.dims`. To access a mapping from dimension names to lengths, please use `Dataset.sizes`.\n",
      "  print(f\"   Canada dimensions: {dict(canada_subset.dims)}\")\n",
      "/Users/abdee/Desktop/Capstone_Cmt/climate-ch4-hotspots-2030/.venv/lib/python3.11/site-packages/xarray/structure/concat.py:547: UserWarning: No index created for dimension year because variable year is not a coordinate. To create an index for year, please first call `.set_coords('year')` on this object.\n",
      "  ds.expand_dims(dim_name, create_index_for_new_dim=create_index_for_new_dim)\n",
      "/Users/abdee/Desktop/Capstone_Cmt/climate-ch4-hotspots-2030/notebooks/era5_processor.py:71: FutureWarning: The return type of `Dataset.dims` will be changed to return a set of dimension names in future, in order to be more consistent with `DataArray.dims`. To access a mapping from dimension names to lengths, please use `Dataset.sizes`.\n",
      "  print(f\"   Annual data: {dict(annual_data.dims)}\")\n",
      "/Users/abdee/Desktop/Capstone_Cmt/climate-ch4-hotspots-2030/notebooks/era5_processor.py:84: FutureWarning: The return type of `Dataset.dims` will be changed to return a set of dimension names in future, in order to be more consistent with `DataArray.dims`. To access a mapping from dimension names to lengths, please use `Dataset.sizes`.\n",
      "  print(f\"   Resampled dimensions: {dict(resampled_data.dims)}\")\n"
     ]
    },
    {
     "name": "stdout",
     "output_type": "stream",
     "text": [
      "   Annual data: {'year': 16, 'latitude': 181, 'longitude': 381}\n",
      "   Years: [2010 2011 2012 2013 2014 2015 2016 2017 2018 2019 2020 2021 2022 2023\n",
      " 2024 2025]\n",
      "\n",
      "5. Resampling to 0.1° resolution...\n",
      "   Resampled dimensions: {'year': 16, 'latitude': 451, 'longitude': 951}\n",
      "\n",
      "6. Extracting to CSV...\n",
      "   Valid land pixels: 427,950\n",
      "\n",
      "✅ ERA5 SOIL MOISTURE LAYER 1 DATA COMPLETE!\n",
      "   File: Soil_Moisture_2010-2024.csv\n",
      "   Records: 6,419,250\n",
      "   Pixels: 427,950\n",
      "   Range: -0.000 to 0.731\n",
      "\n",
      "   Validation:\n",
      "   - Missing values: 0\n",
      "   - Records per year: 427,950\n",
      "   - Years: 2010-2024\n"
     ]
    }
   ],
   "source": [
    "# Import from ERA5 module\n",
    "from era5_processor import process_soil_moisture\n",
    "\n",
    "# Process soil moisture\n",
    "soil_moisture_df = process_soil_moisture('raw/_data_stream-oper_stepType-instant.nc')\n"
   ]
  },
  {
   "cell_type": "code",
   "execution_count": 14,
   "id": "6cd6979c-054b-4e91-b42f-0b539749f597",
   "metadata": {},
   "outputs": [
    {
     "name": "stdout",
     "output_type": "stream",
     "text": [
      "Index(['pixel_id', 'longitude', 'latitude', 'year', 'soil_moisture'], dtype='object')\n",
      "Latitude range: 40.0 to 84.9\n",
      "Longitude range: -145.0 to -50.0\n"
     ]
    }
   ],
   "source": [
    "df = pd.read_csv(\"Soil_Moisture_2010-2024.csv\")\n",
    "print(df.columns)\n",
    "print(f\"Latitude range: {df['latitude'].min()} to {df['latitude'].max()}\")\n",
    "print(f\"Longitude range: {df['longitude'].min()} to {df['longitude'].max()}\")"
   ]
  },
  {
   "cell_type": "code",
   "execution_count": null,
   "id": "f0e44a3a-0ca4-4474-9a47-225f77492f44",
   "metadata": {},
   "outputs": [],
   "source": []
  },
  {
   "cell_type": "code",
   "execution_count": 2,
   "id": "5ef3ec24-3177-4702-ba72-1ed8b84a89e1",
   "metadata": {},
   "outputs": [
    {
     "name": "stdout",
     "output_type": "stream",
     "text": [
      "INVESTIGATING SOIL MOISTURE VALUES\n",
      "==================================================\n",
      "Value statistics:\n",
      "count    6.847200e+06\n",
      "mean     1.574533e-01\n",
      "std      1.607780e-01\n",
      "min     -9.000000e-07\n",
      "25%      2.000000e-07\n",
      "50%      1.587569e-01\n",
      "75%      2.777917e-01\n",
      "max      7.308153e-01\n",
      "Name: soil_moisture, dtype: float64\n",
      "\n",
      "Unique values (first 20):\n",
      "[np.float64(-9e-07), np.float64(-5e-07), np.float64(-4e-07), np.float64(-3e-07), np.float64(-1e-07), np.float64(-0.0), np.float64(1e-07), np.float64(2e-07), np.float64(3e-07), np.float64(4e-07), np.float64(5e-07), np.float64(7e-07), np.float64(8e-07), np.float64(1e-06), np.float64(1.1e-06), np.float64(1.2e-06), np.float64(1.3e-06), np.float64(1.4e-06), np.float64(1.5e-06), np.float64(1.6e-06)]\n",
      "\n",
      "Value counts for most common values:\n",
      "soil_moisture\n",
      " 2.000000e-07    499830\n",
      "-5.000000e-07    333220\n",
      "-1.000000e-07    333220\n",
      "-0.000000e+00    333220\n",
      " 3.000000e-07    166612\n",
      "-3.000000e-07    166610\n",
      " 1.000000e-07    166610\n",
      "-9.000000e-07    166610\n",
      " 5.000000e-07    166610\n",
      "-4.000000e-07    166610\n",
      "Name: count, dtype: int64\n",
      "\n",
      "Are all values 5E-07? False\n",
      "\n",
      "Let's check the original NetCDF data...\n",
      "Original swvl1 range: -0.02418897 to 0.78443748\n",
      "Original swvl1 units: m**3 m**-3\n",
      "Sample original values: [7.584691e-06 7.584691e-06 7.584691e-06 7.584691e-06 7.584691e-06\n",
      " 7.584691e-06 7.584691e-06 7.584691e-06 7.584691e-06 7.584691e-06]\n"
     ]
    }
   ],
   "source": [
    "# Check the soil moisture data more thoroughly\n",
    "print(\"INVESTIGATING SOIL MOISTURE VALUES\")\n",
    "print(\"=\"*50)\n",
    "\n",
    "# Check value distribution\n",
    "print(\"Value statistics:\")\n",
    "print(soil_moisture_df['soil_moisture'].describe())\n",
    "\n",
    "print(f\"\\nUnique values (first 20):\")\n",
    "unique_vals = soil_moisture_df['soil_moisture'].unique()\n",
    "print(sorted(unique_vals)[:20])\n",
    "\n",
    "print(f\"\\nValue counts for most common values:\")\n",
    "print(soil_moisture_df['soil_moisture'].value_counts().head(10))\n",
    "\n",
    "# Check if all values are the same\n",
    "all_same = (soil_moisture_df['soil_moisture'] == 5e-07).all()\n",
    "print(f\"\\nAre all values 5E-07? {all_same}\")\n",
    "\n",
    "# Check the original data to see what went wrong\n",
    "print(f\"\\nLet's check the original NetCDF data...\")\n",
    "import xarray as xr\n",
    "\n",
    "ds_orig = xr.open_dataset('_data_stream-oper_stepType-instant.nc')\n",
    "print(f\"Original swvl1 range: {float(ds_orig.swvl1.min()):.8f} to {float(ds_orig.swvl1.max()):.8f}\")\n",
    "print(f\"Original swvl1 units: {ds_orig.swvl1.units if hasattr(ds_orig.swvl1, 'units') else 'No units'}\")\n",
    "print(f\"Sample original values: {ds_orig.swvl1.isel(valid_time=0, latitude=slice(0,5), longitude=slice(0,5)).values.flatten()[:10]}\")"
   ]
  },
  {
   "cell_type": "code",
   "execution_count": null,
   "id": "b4801846-0cfc-4795-a2f7-7ace1f213868",
   "metadata": {},
   "outputs": [],
   "source": []
  }
 ],
 "metadata": {
  "kernelspec": {
   "display_name": "Python 3 (ipykernel)",
   "language": "python",
   "name": "python3"
  },
  "language_info": {
   "codemirror_mode": {
    "name": "ipython",
    "version": 3
   },
   "file_extension": ".py",
   "mimetype": "text/x-python",
   "name": "python",
   "nbconvert_exporter": "python",
   "pygments_lexer": "ipython3",
   "version": "3.11.5"
  }
 },
 "nbformat": 4,
 "nbformat_minor": 5
}
