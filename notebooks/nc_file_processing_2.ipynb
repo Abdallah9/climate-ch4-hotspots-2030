{
 "cells": [
  {
   "cell_type": "code",
   "execution_count": 2,
   "id": "39714c45-54a8-472d-99c2-0951bd18406d",
   "metadata": {},
   "outputs": [],
   "source": [
    "# Import module\n",
    "from climate_processor import (\n",
    "    process_ch4_concentration, \n",
    "    process_permafrost, \n",
    "    process_wetlands, \n",
    "    process_industrial_emissions\n",
    ")"
   ]
  },
  {
   "cell_type": "code",
   "execution_count": 5,
   "id": "6e9ae2a5-f09b-4171-a0df-5eff315cd7c3",
   "metadata": {},
   "outputs": [],
   "source": [
    "import pandas as pd "
   ]
  },
  {
   "cell_type": "code",
   "execution_count": 3,
   "id": "5312db48-3a28-41c8-928e-22c19bfbb65c",
   "metadata": {},
   "outputs": [
    {
     "name": "stdout",
     "output_type": "stream",
     "text": [
      "CH4_Concentration Processing\n",
      "============================================================\n",
      "=== PROCESSING CH4 CONCENTRATION DATA (CONVERTED TO PPM) ===\n",
      "File: Pre_process/data_sfc_Ch4_annual.nc\n",
      "Variable: ch4_concentration → ch4_concentration\n",
      "\n",
      "1. Loading data...\n",
      "   Dimensions: {'time': 15, 'latitude': 55, 'longitude': 119}\n",
      "   Time coordinate: time\n",
      "   Time range: 2010-12-31T00:00:00.000000000 to 2024-12-31T00:00:00.000000000\n",
      "   Time steps: 15\n",
      "   Variable shape: (15, 55, 119)\n",
      "   Variable dimensions: ('time', 'latitude', 'longitude')\n",
      "\n",
      "2. Processing coordinates...\n",
      "   Latitude coordinate: latitude\n",
      "   Longitude coordinate: longitude\n",
      "DEBUG lat/lon names: latitude longitude\n",
      "DEBUG data_var.coords: ['latitude', 'longitude', 'time']\n",
      "\n",
      "3. Resampling to 0.1° resolution...\n",
      "   Target grid: 406 lats × 886 lons\n"
     ]
    },
    {
     "name": "stderr",
     "output_type": "stream",
     "text": [
      "/Users/abdee/Desktop/Capstone_Cmt/climate-ch4-hotspots-2030/notebooks/climate_processor.py:57: FutureWarning: The return type of `Dataset.dims` will be changed to return a set of dimension names in future, in order to be more consistent with `DataArray.dims`. To access a mapping from dimension names to lengths, please use `Dataset.sizes`.\n",
      "  print(f\"   Dimensions: {dict(ds.dims)}\")\n"
     ]
    },
    {
     "name": "stdout",
     "output_type": "stream",
     "text": [
      "   Resampled shape: (15, 406, 886)\n",
      "   Resampled value range: 0.007131550926715136 to 0.010327703319489956\n",
      "\n",
      "4. Extracting to CSV...\n",
      "   Years: 2010 to 2024\n",
      "   Valid pixels: 358,830\n",
      "\n",
      "✅ CH4 CONCENTRATION DATA (CONVERTED TO PPM) COMPLETE!\n",
      "   File: Ch4_Concentration_2010-2024.csv\n",
      "   Records: 5,382,450\n",
      "   Unique pixels: 358,830\n",
      "   Years: 2010-2024\n",
      "   Value range: 0.007 to 0.010\n",
      "\n",
      "   Validation:\n",
      "   - Missing values: 0\n",
      "   - Records per year: 358,830\n",
      "   - Consistent pixel count: True\n"
     ]
    }
   ],
   "source": [
    "# Test CH4 concentration first (your target variable)\n",
    "print(\"CH4_Concentration Processing\")\n",
    "print(\"=\"*60)\n",
    "ch4_df = process_ch4_concentration('Pre_process/data_sfc_Ch4_annual.nc')\n"
   ]
  },
  {
   "cell_type": "code",
   "execution_count": 6,
   "id": "855a56c9-8a97-469d-852f-9e3ce0d18a36",
   "metadata": {},
   "outputs": [
    {
     "name": "stdout",
     "output_type": "stream",
     "text": [
      "Index(['pixel_id', 'longitude', 'latitude', 'year', 'ch4_concentration'], dtype='object')\n",
      "Latitude range: -141.0 to -52.5\n",
      "Longitude range: 42.0 to 82.4\n"
     ]
    }
   ],
   "source": [
    "df = pd.read_csv(\"Ch4_Concentration_2010-2024.csv\")\n",
    "print(df.columns)\n",
    "print(f\"Latitude range: {df['latitude'].min()} to {df['latitude'].max()}\")\n",
    "print(f\"Longitude range: {df['longitude'].min()} to {df['longitude'].max()}\")"
   ]
  },
  {
   "cell_type": "code",
   "execution_count": 7,
   "id": "d0bcabcc-4fce-4a9b-b476-6c5ff42cc945",
   "metadata": {},
   "outputs": [
    {
     "name": "stdout",
     "output_type": "stream",
     "text": [
      "Latitude range: 42.0 to 82.4\n",
      "Longitude range: -141.0 to -52.5\n"
     ]
    }
   ],
   "source": [
    "# Swap if needed\n",
    "df = df.rename(columns={'latitude': 'longitude', 'longitude': 'latitude'})\n",
    "print(f\"Latitude range: {df['latitude'].min()} to {df['latitude'].max()}\")\n",
    "print(f\"Longitude range: {df['longitude'].min()} to {df['longitude'].max()}\")"
   ]
  },
  {
   "cell_type": "code",
   "execution_count": null,
   "id": "7f0c6262-f4cc-436c-ba9f-a71a42553fcc",
   "metadata": {},
   "outputs": [],
   "source": []
  },
  {
   "cell_type": "code",
   "execution_count": 12,
   "id": "d08f32d4-548d-4f3d-97c5-221562e6c9f2",
   "metadata": {},
   "outputs": [
    {
     "name": "stdout",
     "output_type": "stream",
     "text": [
      "=== PROCESSING PERMAFROST FRACTION ===\n",
      "File: Pre_process/PERMAFROST_Canada_Annual_2010_2024.nc\n",
      "Variable: permafrost_fraction → permafrost_fraction\n",
      "\n",
      "1. Loading data...\n",
      "   Dimensions: {'time': 15, 'lat': 4500, 'lon': 8900}\n",
      "   Time coordinate: time\n",
      "   Time range: 2010 to 2024\n",
      "   Time steps: 15\n"
     ]
    },
    {
     "name": "stderr",
     "output_type": "stream",
     "text": [
      "/Users/abdee/Desktop/Capstone_Cmt/climate-ch4-hotspots-2030/notebooks/climate_processor.py:57: FutureWarning: The return type of `Dataset.dims` will be changed to return a set of dimension names in future, in order to be more consistent with `DataArray.dims`. To access a mapping from dimension names to lengths, please use `Dataset.sizes`.\n",
      "  print(f\"   Dimensions: {dict(ds.dims)}\")\n"
     ]
    },
    {
     "name": "stdout",
     "output_type": "stream",
     "text": [
      "   Variable shape: (15, 4500, 8900)\n",
      "   Variable dimensions: ('time', 'lat', 'lon')\n",
      "\n",
      "2. Processing coordinates...\n",
      "   Latitude coordinate: lat\n",
      "   Longitude coordinate: lon\n",
      "DEBUG lat/lon names: lat lon\n",
      "DEBUG data_var.coords: ['time', 'lat', 'lon']\n",
      "\n",
      "3. Resampling to 0.1° resolution...\n",
      "   Target grid: 406 lats × 886 lons\n",
      "   Resampled shape: (15, 406, 886)\n",
      "   Resampled value range: 0.0 to 100.0\n",
      "\n",
      "4. Extracting to CSV...\n",
      "   Years: 2010 to 2024\n",
      "   Valid pixels: 128,116\n",
      "\n",
      "✅ PERMAFROST FRACTION COMPLETE!\n",
      "   File: Permafrost_Fraction_2010-2024.csv\n",
      "   Records: 1,921,740\n",
      "   Unique pixels: 128,116\n",
      "   Years: 2010-2024\n",
      "   Value range: 0.000 to 1.000\n",
      "\n",
      "   Validation:\n",
      "   - Missing values: 0\n",
      "   - Records per year: 128,116\n",
      "   - Consistent pixel count: True\n"
     ]
    }
   ],
   "source": [
    "# Process permafrost zones\n",
    "# print(\"\\nPermafrost\")\n",
    "# print(\"=\"*60)\n",
    "permafrost_zones_df = process_permafrost('Pre_process/PERMAFROST_Canada_Annual_2010_2024.nc')"
   ]
  },
  {
   "cell_type": "code",
   "execution_count": 13,
   "id": "bce0ac77-78ab-442e-ae01-6b92f624a05f",
   "metadata": {},
   "outputs": [
    {
     "name": "stdout",
     "output_type": "stream",
     "text": [
      "Index(['pixel_id', 'longitude', 'latitude', 'year', 'permafrost_fraction'], dtype='object')\n",
      "Latitude range: -140.9 to -52.5\n",
      "Longitude range: 42.6 to 82.5\n"
     ]
    }
   ],
   "source": [
    "df = pd.read_csv(\"Permafrost_Fraction_2010-2024.csv\")\n",
    "print(df.columns)\n",
    "print(f\"Latitude range: {df['latitude'].min()} to {df['latitude'].max()}\")\n",
    "print(f\"Longitude range: {df['longitude'].min()} to {df['longitude'].max()}\")"
   ]
  },
  {
   "cell_type": "code",
   "execution_count": 14,
   "id": "1a62d7fe-efda-4d9f-91b0-58a48b1c9dc4",
   "metadata": {},
   "outputs": [
    {
     "name": "stdout",
     "output_type": "stream",
     "text": [
      "Latitude range: 42.6 to 82.5\n",
      "Longitude range: -140.9 to -52.5\n"
     ]
    }
   ],
   "source": [
    "# Swap if needed\n",
    "df = df.rename(columns={'latitude': 'longitude', 'longitude': 'latitude'})\n",
    "print(f\"Latitude range: {df['latitude'].min()} to {df['latitude'].max()}\")\n",
    "print(f\"Longitude range: {df['longitude'].min()} to {df['longitude'].max()}\")"
   ]
  },
  {
   "cell_type": "code",
   "execution_count": null,
   "id": "244d3864-6f7c-4388-92db-edf6f6b377bd",
   "metadata": {},
   "outputs": [],
   "source": []
  },
  {
   "cell_type": "code",
   "execution_count": 8,
   "id": "62526070-4f19-42e9-a762-38755c6ced0f",
   "metadata": {},
   "outputs": [
    {
     "name": "stdout",
     "output_type": "stream",
     "text": [
      "=== PROCESSING WETLAND FRACTION DATA ===\n",
      "File: Pre_process/WETLAND_Canada_Annual_2010_2024.nc\n",
      "Variable: wetland_fraction → wetland_fraction\n",
      "\n",
      "1. Loading data...\n",
      "   Dimensions: {'year': 14, 'latitude': 180, 'longitude': 356}\n",
      "   Time coordinate: year\n",
      "   Time range: 2010 to 2024\n",
      "   Time steps: 14\n",
      "   Variable shape: (14, 180, 356)\n",
      "   Variable dimensions: ('year', 'latitude', 'longitude')\n",
      "\n",
      "2. Processing coordinates...\n",
      "   Latitude coordinate: latitude\n",
      "   Longitude coordinate: longitude\n",
      "DEBUG lat/lon names: latitude longitude\n",
      "DEBUG data_var.coords: ['latitude', 'longitude', 'year']\n",
      "\n",
      "3. Resampling to 0.1° resolution...\n",
      "   Target grid: 406 lats × 886 lons\n",
      "   Resampled shape: (14, 406, 886)\n",
      "   Resampled value range: 0.0 to 0.23190315067768097\n",
      "\n",
      "4. Extracting to CSV...\n",
      "   Years: 2010 to 2024\n",
      "   Valid pixels: 6,415\n"
     ]
    },
    {
     "name": "stderr",
     "output_type": "stream",
     "text": [
      "/Users/abdee/Desktop/Capstone_Cmt/climate-ch4-hotspots-2030/notebooks/climate_processor.py:57: FutureWarning: The return type of `Dataset.dims` will be changed to return a set of dimension names in future, in order to be more consistent with `DataArray.dims`. To access a mapping from dimension names to lengths, please use `Dataset.sizes`.\n",
      "  print(f\"   Dimensions: {dict(ds.dims)}\")\n"
     ]
    },
    {
     "name": "stdout",
     "output_type": "stream",
     "text": [
      "\n",
      "✅ WETLAND FRACTION DATA COMPLETE!\n",
      "   File: Wetland_Fraction_2010-2024.csv\n",
      "   Records: 89,810\n",
      "   Unique pixels: 6,415\n",
      "   Years: 2010-2024\n",
      "   Value range: 0.000 to 18.287\n",
      "\n",
      "   Validation:\n",
      "   - Missing values: 21051\n",
      "   - Records per year: 6,415\n",
      "   - Consistent pixel count: True\n"
     ]
    }
   ],
   "source": [
    "# Process wetlands \n",
    "# print(\"\\nWetland Processing\")\n",
    "# print(\"=\"*60)\n",
    "wetlands_df = process_wetlands('Pre_process/WETLAND_Canada_Annual_2010_2024.nc')"
   ]
  },
  {
   "cell_type": "code",
   "execution_count": 9,
   "id": "6fae9cce-71da-47e9-b9ae-f1803c9e4e8e",
   "metadata": {},
   "outputs": [
    {
     "name": "stdout",
     "output_type": "stream",
     "text": [
      "Index(['pixel_id', 'longitude', 'latitude', 'year', 'wetland_fraction'], dtype='object')\n",
      "Latitude range: -136.7 to -52.8\n",
      "Longitude range: 42.0 to 66.7\n"
     ]
    }
   ],
   "source": [
    "import pandas as pd\n",
    "df = pd.read_csv(\"Wetland_Fraction_2010-2024.csv\")\n",
    "print(df.columns)\n",
    "print(f\"Latitude range: {df['latitude'].min()} to {df['latitude'].max()}\")\n",
    "print(f\"Longitude range: {df['longitude'].min()} to {df['longitude'].max()}\")"
   ]
  },
  {
   "cell_type": "code",
   "execution_count": 10,
   "id": "a033606c-307d-4ffb-a575-65ab47d16023",
   "metadata": {},
   "outputs": [],
   "source": [
    "df = df.rename(columns={'latitude': 'longitude', 'longitude': 'latitude'})"
   ]
  },
  {
   "cell_type": "code",
   "execution_count": 11,
   "id": "349e130d-3f3e-48f3-952a-845faedc0e0c",
   "metadata": {},
   "outputs": [
    {
     "name": "stdout",
     "output_type": "stream",
     "text": [
      "Latitude range: 42.0 to 66.7\n",
      "Longitude range: -136.7 to -52.8\n"
     ]
    }
   ],
   "source": [
    "print(f\"Latitude range: {df['latitude'].min()} to {df['latitude'].max()}\")\n",
    "print(f\"Longitude range: {df['longitude'].min()} to {df['longitude'].max()}\")"
   ]
  },
  {
   "cell_type": "code",
   "execution_count": null,
   "id": "2649af45-2e34-40a0-ac3a-71cb8557a1b3",
   "metadata": {},
   "outputs": [],
   "source": []
  },
  {
   "cell_type": "code",
   "execution_count": 15,
   "id": "646d0df6-22a2-4222-b15c-f1ce04547f5f",
   "metadata": {},
   "outputs": [
    {
     "name": "stdout",
     "output_type": "stream",
     "text": [
      "=== PROCESSING INDUSTRIAL CH4 EMISSIONS DATA ===\n",
      "File: Pre_process/CH4_FE_Canada_Annual_2010_2024.nc\n",
      "Variable: fuel_emi → ch4_emissions\n",
      "\n",
      "1. Loading data...\n",
      "   Dimensions: {'time': 15, 'lat': 450, 'lon': 890}\n",
      "   Time coordinate: time\n",
      "   Time range: 2010-01-01T00:00:00.000000000 to 2024-01-01T00:00:00.000000000\n",
      "   Time steps: 15\n",
      "   Variable shape: (15, 450, 890)\n",
      "   Variable dimensions: ('time', 'lat', 'lon')\n",
      "\n",
      "2. Processing coordinates...\n",
      "   Latitude coordinate: lat\n",
      "   Longitude coordinate: lon\n",
      "DEBUG lat/lon names: lat lon\n",
      "DEBUG data_var.coords: ['lat', 'lon', 'time']\n",
      "\n",
      "3. Resampling to 0.1° resolution...\n",
      "   Target grid: 406 lats × 886 lons\n",
      "   Resampled shape: (15, 406, 886)\n",
      "   Resampled value range: 0.0 to 971784.8125\n",
      "\n",
      "4. Extracting to CSV...\n",
      "   Years: 2010 to 2024\n",
      "   Valid pixels: 359,310\n"
     ]
    },
    {
     "name": "stderr",
     "output_type": "stream",
     "text": [
      "/Users/abdee/Desktop/Capstone_Cmt/climate-ch4-hotspots-2030/notebooks/climate_processor.py:57: FutureWarning: The return type of `Dataset.dims` will be changed to return a set of dimension names in future, in order to be more consistent with `DataArray.dims`. To access a mapping from dimension names to lengths, please use `Dataset.sizes`.\n",
      "  print(f\"   Dimensions: {dict(ds.dims)}\")\n"
     ]
    },
    {
     "name": "stdout",
     "output_type": "stream",
     "text": [
      "\n",
      "✅ INDUSTRIAL CH4 EMISSIONS DATA COMPLETE!\n",
      "   File: Ch4_Emissions_2010-2024.csv\n",
      "   Records: 5,389,650\n",
      "   Unique pixels: 359,310\n",
      "   Years: 2010-2024\n",
      "   Value range: 0.000 to 971784.812\n",
      "\n",
      "   Validation:\n",
      "   - Missing values: 59\n",
      "   - Records per year: 359,310\n",
      "   - Consistent pixel count: True\n"
     ]
    }
   ],
   "source": [
    "# Process Industrial Emissions\n",
    "# print(\"\\nIndustrial Emissions\")\n",
    "# print(\"=\"*60)\n",
    "emissions_df = process_industrial_emissions('Pre_process/CH4_FE_Canada_Annual_2010_2024.nc')\n",
    "# print(f\"Industrial Emissions pixel count: {emissions_df['pixel_id'].nunique():,}\")\n",
    "# print(f\"Expected: 366,860\")\n",
    "# print(f\"Match: {emissions_df['pixel_id'].nunique() == 366860}\")\n"
   ]
  },
  {
   "cell_type": "code",
   "execution_count": 16,
   "id": "9c63c062-fce5-4086-8928-60c4055e42bb",
   "metadata": {},
   "outputs": [
    {
     "name": "stdout",
     "output_type": "stream",
     "text": [
      "Index(['pixel_id', 'longitude', 'latitude', 'year', 'ch4_emissions'], dtype='object')\n",
      "Latitude range: -140.9 to -52.5\n",
      "Longitude range: 42.0 to 82.5\n"
     ]
    }
   ],
   "source": [
    "df = pd.read_csv(\"Ch4_Emissions_2010-2024.csv\")\n",
    "print(df.columns)\n",
    "print(f\"Latitude range: {df['latitude'].min()} to {df['latitude'].max()}\")\n",
    "print(f\"Longitude range: {df['longitude'].min()} to {df['longitude'].max()}\")"
   ]
  },
  {
   "cell_type": "code",
   "execution_count": 17,
   "id": "9fae3e90-6e86-46a6-b02c-6040a4e9e9fc",
   "metadata": {},
   "outputs": [
    {
     "name": "stdout",
     "output_type": "stream",
     "text": [
      "Latitude range: 42.0 to 82.5\n",
      "Longitude range: -140.9 to -52.5\n"
     ]
    }
   ],
   "source": [
    "# Swap if needed\n",
    "df = df.rename(columns={'latitude': 'longitude', 'longitude': 'latitude'})\n",
    "print(f\"Latitude range: {df['latitude'].min()} to {df['latitude'].max()}\")\n",
    "print(f\"Longitude range: {df['longitude'].min()} to {df['longitude'].max()}\")"
   ]
  },
  {
   "cell_type": "code",
   "execution_count": null,
   "id": "27b7c2d0-ee86-4f6f-96bc-43b6cba81de1",
   "metadata": {},
   "outputs": [],
   "source": []
  },
  {
   "cell_type": "code",
   "execution_count": null,
   "id": "9d54e339-e732-4317-b9c7-a06c06a124b2",
   "metadata": {},
   "outputs": [],
   "source": [
    "# import gc\n",
    "# import psutil\n",
    "\n",
    "# # Garbage collection to free up memory\n",
    "# gc.collect()\n",
    "\n",
    "# # Check available memory (optional)\n",
    "# mem = psutil.virtual_memory()\n",
    "# print(f\"Available RAM: {mem.available / 1e9:.2f} GB\")\n"
   ]
  }
 ],
 "metadata": {
  "kernelspec": {
   "display_name": "Python 3 (ipykernel)",
   "language": "python",
   "name": "python3"
  },
  "language_info": {
   "codemirror_mode": {
    "name": "ipython",
    "version": 3
   },
   "file_extension": ".py",
   "mimetype": "text/x-python",
   "name": "python",
   "nbconvert_exporter": "python",
   "pygments_lexer": "ipython3",
   "version": "3.11.5"
  }
 },
 "nbformat": 4,
 "nbformat_minor": 5
}
