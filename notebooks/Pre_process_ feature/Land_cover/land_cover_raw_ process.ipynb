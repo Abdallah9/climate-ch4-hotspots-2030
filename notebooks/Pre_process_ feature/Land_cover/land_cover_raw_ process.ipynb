{
 "cells": [
  {
   "cell_type": "code",
   "execution_count": 1,
   "id": "9ba3dcce-ea27-4e31-a996-1145527851a7",
   "metadata": {},
   "outputs": [
    {
     "name": "stdout",
     "output_type": "stream",
     "text": [
      "<xarray.Dataset> Size: 3GB\n",
      "Dimensions:                      (time: 348, latitude: 720, longitude: 1440,\n",
      "                                  month: 12)\n",
      "Coordinates:\n",
      "  * time                         (time) datetime64[ns] 3kB 1992-01-01 ... 202...\n",
      "  * latitude                     (latitude) float32 3kB -89.88 -89.62 ... 89.88\n",
      "  * longitude                    (longitude) float32 6kB -179.9 -179.6 ... 179.9\n",
      "  * month                        (month) int8 12B 1 2 3 4 5 6 7 8 9 10 11 12\n",
      "Data variables:\n",
      "    inund_sat_wetland_frac       (time, latitude, longitude) float32 1GB ...\n",
      "    inund_sat_peat_wetland_frac  (time, latitude, longitude) float32 1GB ...\n",
      "    fresh_lake_frac              (latitude, longitude) float32 4MB ...\n",
      "    saline_lake_frac             (latitude, longitude) float32 4MB ...\n",
      "    reservoir_frac               (latitude, longitude) float32 4MB ...\n",
      "    river_frac                   (latitude, longitude) float32 4MB ...\n",
      "    estu_river_frac              (latitude, longitude) float32 4MB ...\n",
      "    rice_irri_frac               (month, latitude, longitude) float32 50MB ...\n",
      "    rice_rainfed_frac            (month, latitude, longitude) float32 50MB ...\n",
      "    dom_aqua_class               (latitude, longitude) int32 4MB ...\n",
      "    dom_wet_peat_class           (latitude, longitude) int32 4MB ...\n",
      "    dom_land_cover_class         (latitude, longitude) int32 4MB ...\n",
      "Attributes: (12/14)\n",
      "    title:               GIEMS-MC\n",
      "    long_title:          Global Inundation Extent from Multi-Satellites-Metha...\n",
      "    summary:             This file contains monthly fraction from 1992 to 202...\n",
      "    product_version:     vbeta\n",
      "    contact:             Juliette Bernard (juliette.bernard@obspm.fr), Caheri...\n",
      "    authors:             XX,XX,XX...\n",
      "    ...                  ...\n",
      "    creation:            28/03/2024\n",
      "    units:               surfaces are in fraction (0 to 1)\n",
      "    spatial_resolution:  regular 0.25 degree grid\n",
      "    ocean_flag_value:    -999\n",
      "    snow_flag_value:     -998\n",
      "    urban_flag_value:    -997\n"
     ]
    }
   ],
   "source": [
    "import xarray as xr\n",
    "ds = xr.open_dataset(\"GIEMS-MC_compressed.nc\")\n",
    "print(ds)\n"
   ]
  },
  {
   "cell_type": "code",
   "execution_count": 1,
   "id": "ddd04f4b-0922-4ed3-861c-c70bde9c642f",
   "metadata": {},
   "outputs": [],
   "source": [
    "import xarray as xr\n",
    "\n",
    "ds = xr.open_dataset(\"GIEMS-MC_compressed.nc\")\n",
    "\n",
    "land_cover = ds[\"dom_land_cover_class\"]\n",
    "\n",
    "# Clip to Canada bounding box\n",
    "land_cover_canada = land_cover.sel(\n",
    "    latitude=slice(40, 85),\n",
    "    longitude=slice(-141, -52)\n",
    ")\n",
    "\n",
    "# Optional: Save clipped as NetCDF\n",
    "land_cover_canada.to_netcdf(\"LandCover_Canada_Static.nc\")\n"
   ]
  },
  {
   "cell_type": "code",
   "execution_count": 4,
   "id": "f3947eed-0a64-4b0e-8159-e82ac867afa7",
   "metadata": {},
   "outputs": [
    {
     "name": "stdout",
     "output_type": "stream",
     "text": [
      "<xarray.Dataset> Size: 258kB\n",
      "Dimensions:               (latitude: 180, longitude: 356)\n",
      "Coordinates:\n",
      "  * latitude              (latitude) float32 720B 40.12 40.38 ... 84.62 84.88\n",
      "  * longitude             (longitude) float32 1kB -140.9 -140.6 ... -52.12\n",
      "Data variables:\n",
      "    dom_land_cover_class  (latitude, longitude) int32 256kB ...\n"
     ]
    }
   ],
   "source": [
    "print(xr.open_dataset(\"LandCover_Canada_Static.nc\"))\n"
   ]
  },
  {
   "cell_type": "code",
   "execution_count": null,
   "id": "0d3704b7-ae5f-4af5-be56-6c3489bbdeff",
   "metadata": {},
   "outputs": [],
   "source": []
  }
 ],
 "metadata": {
  "kernelspec": {
   "display_name": "Python 3 (ipykernel)",
   "language": "python",
   "name": "python3"
  },
  "language_info": {
   "codemirror_mode": {
    "name": "ipython",
    "version": 3
   },
   "file_extension": ".py",
   "mimetype": "text/x-python",
   "name": "python",
   "nbconvert_exporter": "python",
   "pygments_lexer": "ipython3",
   "version": "3.11.5"
  }
 },
 "nbformat": 4,
 "nbformat_minor": 5
}
