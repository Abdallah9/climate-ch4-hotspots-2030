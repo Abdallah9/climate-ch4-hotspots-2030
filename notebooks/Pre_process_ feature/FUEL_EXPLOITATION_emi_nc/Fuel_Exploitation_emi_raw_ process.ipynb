{
 "cells": [
  {
   "cell_type": "code",
   "execution_count": 2,
   "id": "b310ff2c-a9ef-4732-a73f-468cfc07c3eb",
   "metadata": {
    "scrolled": true
   },
   "outputs": [
    {
     "name": "stdout",
     "output_type": "stream",
     "text": [
      "Requirement already satisfied: xarray in /Users/abdee/Desktop/Capston_1/Capstone_1/lib/python3.11/site-packages (2025.7.1)\n",
      "Collecting rioxarray\n",
      "  Using cached rioxarray-0.19.0-py3-none-any.whl.metadata (5.5 kB)\n",
      "Requirement already satisfied: netCDF4 in /Users/abdee/Desktop/Capston_1/Capstone_1/lib/python3.11/site-packages (1.7.2)\n",
      "Requirement already satisfied: numpy>=1.26 in /Users/abdee/Desktop/Capston_1/Capstone_1/lib/python3.11/site-packages (from xarray) (2.3.1)\n",
      "Requirement already satisfied: packaging>=24.1 in /Users/abdee/Desktop/Capston_1/Capstone_1/lib/python3.11/site-packages (from xarray) (25.0)\n",
      "Requirement already satisfied: pandas>=2.2 in /Users/abdee/Desktop/Capston_1/Capstone_1/lib/python3.11/site-packages (from xarray) (2.3.1)\n",
      "Collecting rasterio>=1.4.3 (from rioxarray)\n",
      "  Using cached rasterio-1.4.3-cp311-cp311-macosx_14_0_arm64.whl.metadata (9.1 kB)\n",
      "Collecting pyproj>=3.3 (from rioxarray)\n",
      "  Using cached pyproj-3.7.1-cp311-cp311-macosx_14_0_arm64.whl.metadata (31 kB)\n",
      "Requirement already satisfied: cftime in /Users/abdee/Desktop/Capston_1/Capstone_1/lib/python3.11/site-packages (from netCDF4) (1.6.4.post1)\n",
      "Requirement already satisfied: certifi in /Users/abdee/Desktop/Capston_1/Capstone_1/lib/python3.11/site-packages (from netCDF4) (2025.7.14)\n",
      "Requirement already satisfied: python-dateutil>=2.8.2 in /Users/abdee/Desktop/Capston_1/Capstone_1/lib/python3.11/site-packages (from pandas>=2.2->xarray) (2.9.0.post0)\n",
      "Requirement already satisfied: pytz>=2020.1 in /Users/abdee/Desktop/Capston_1/Capstone_1/lib/python3.11/site-packages (from pandas>=2.2->xarray) (2025.2)\n",
      "Requirement already satisfied: tzdata>=2022.7 in /Users/abdee/Desktop/Capston_1/Capstone_1/lib/python3.11/site-packages (from pandas>=2.2->xarray) (2025.2)\n",
      "Requirement already satisfied: six>=1.5 in /Users/abdee/Desktop/Capston_1/Capstone_1/lib/python3.11/site-packages (from python-dateutil>=2.8.2->pandas>=2.2->xarray) (1.17.0)\n",
      "Collecting affine (from rasterio>=1.4.3->rioxarray)\n",
      "  Using cached affine-2.4.0-py3-none-any.whl.metadata (4.0 kB)\n",
      "Requirement already satisfied: attrs in /Users/abdee/Desktop/Capston_1/Capstone_1/lib/python3.11/site-packages (from rasterio>=1.4.3->rioxarray) (25.3.0)\n",
      "Collecting click>=4.0 (from rasterio>=1.4.3->rioxarray)\n",
      "  Downloading click-8.2.1-py3-none-any.whl.metadata (2.5 kB)\n",
      "Collecting cligj>=0.5 (from rasterio>=1.4.3->rioxarray)\n",
      "  Using cached cligj-0.7.2-py3-none-any.whl.metadata (5.0 kB)\n",
      "Collecting click-plugins (from rasterio>=1.4.3->rioxarray)\n",
      "  Downloading click_plugins-1.1.1.2-py2.py3-none-any.whl.metadata (6.5 kB)\n",
      "Collecting pyparsing (from rasterio>=1.4.3->rioxarray)\n",
      "  Using cached pyparsing-3.2.3-py3-none-any.whl.metadata (5.0 kB)\n",
      "Using cached rioxarray-0.19.0-py3-none-any.whl (62 kB)\n",
      "Using cached pyproj-3.7.1-cp311-cp311-macosx_14_0_arm64.whl (4.7 MB)\n",
      "Using cached rasterio-1.4.3-cp311-cp311-macosx_14_0_arm64.whl (18.8 MB)\n",
      "Downloading click-8.2.1-py3-none-any.whl (102 kB)\n",
      "Using cached cligj-0.7.2-py3-none-any.whl (7.1 kB)\n",
      "Using cached affine-2.4.0-py3-none-any.whl (15 kB)\n",
      "Downloading click_plugins-1.1.1.2-py2.py3-none-any.whl (11 kB)\n",
      "Using cached pyparsing-3.2.3-py3-none-any.whl (111 kB)\n",
      "Installing collected packages: pyproj, pyparsing, click, affine, cligj, click-plugins, rasterio, rioxarray\n",
      "\u001b[2K   \u001b[90m━━━━━━━━━━━━━━━━━━━━━━━━━━━━━━━━━━━━━━━━\u001b[0m \u001b[32m8/8\u001b[0m [rioxarray]/8\u001b[0m [rasterio]\n",
      "\u001b[1A\u001b[2KSuccessfully installed affine-2.4.0 click-8.2.1 click-plugins-1.1.1.2 cligj-0.7.2 pyparsing-3.2.3 pyproj-3.7.1 rasterio-1.4.3 rioxarray-0.19.0\n",
      "Note: you may need to restart the kernel to use updated packages.\n"
     ]
    }
   ],
   "source": [
    "pip install xarray rioxarray netCDF4\n"
   ]
  },
  {
   "cell_type": "code",
   "execution_count": null,
   "id": "08e8bc29-4b1c-47d5-868a-11dc190e8aa3",
   "metadata": {},
   "outputs": [],
   "source": []
  },
  {
   "cell_type": "code",
   "execution_count": 7,
   "id": "3fcc7490-95da-4266-a73a-c770d9a3485d",
   "metadata": {},
   "outputs": [
    {
     "name": "stdout",
     "output_type": "stream",
     "text": [
      "<xarray.Dataset> Size: 311MB\n",
      "Dimensions:    (time: 12, lat: 1800, lon: 3600)\n",
      "Coordinates:\n",
      "  * lat        (lat) float64 14kB -89.95 -89.85 -89.75 ... 89.75 89.85 89.95\n",
      "  * lon        (lon) float64 29kB -179.9 -179.8 -179.8 ... 179.8 179.8 179.9\n",
      "  * time       (time) datetime64[ns] 96B 2000-01-15 2000-02-15 ... 2000-12-15\n",
      "Data variables:\n",
      "    emissions  (time, lat, lon) float32 311MB ...\n",
      "Attributes:\n",
      "    institution:       European Commission, Joint Research Centre\n",
      "    source:            https://edgar.jrc.ec.europa.eu/dataset_ghg80\n",
      "    how_to_cite:       https://edgar.jrc.ec.europa.eu/dataset_ghg80#howtocite\n",
      "    copyright_notice:  https://edgar.jrc.ec.europa.eu/dataset_ghg80#conditions\n",
      "    contacts:          https://edgar.jrc.ec.europa.eu/dataset_ghg80#info JRC-...\n"
     ]
    }
   ],
   "source": [
    "import xarray as xr\n",
    "\n",
    "ds = xr.open_dataset(\"raw_Fuel_Exploitation/v8.0_FT2022_GHG_CH4_2000_FUEL_EXPLOITATION_emi.nc\")\n",
    "print(ds)"
   ]
  },
  {
   "cell_type": "code",
   "execution_count": null,
   "id": "fcc3e89f-250c-497f-92fe-7ca65c122d29",
   "metadata": {},
   "outputs": [],
   "source": []
  },
  {
   "cell_type": "code",
   "execution_count": 9,
   "id": "bb5f3256-6a4d-4748-a0e9-3b0e957f4e09",
   "metadata": {},
   "outputs": [
    {
     "name": "stdout",
     "output_type": "stream",
     "text": [
      "Processing 2010...\n",
      "Processing 2011...\n",
      "Processing 2012...\n",
      "Processing 2013...\n",
      "Processing 2014...\n",
      "Processing 2015...\n",
      "Processing 2016...\n",
      "Processing 2017...\n",
      "Processing 2018...\n",
      "Processing 2019...\n",
      "Processing 2020...\n",
      "Processing 2021...\n",
      "Processing 2022...\n",
      "✅ DONE: All annual files processed and saved.\n"
     ]
    }
   ],
   "source": [
    "import xarray as xr\n",
    "import os\n",
    "\n",
    "# Paths\n",
    "input_dir = \"raw_Fuel_Exploitation\"               # Update this\n",
    "output_dir = \"processed_Fuel_Exploitation\"\n",
    "os.makedirs(output_dir, exist_ok=True)\n",
    "\n",
    "# Set variable name to rename from\n",
    "var_name = \"emissions\"\n",
    "years = list(range(2010, 2023))\n",
    "\n",
    "for year in years:\n",
    "    print(f\"Processing {year}...\")\n",
    "    # v8.0_FT2022_GHG_CH4_2000_FUEL_EXPLOITATION_emi.nc\n",
    "    file = f\"v8.0_FT2022_GHG_CH4_{year}_FUEL_EXPLOITATION_emi.nc\"\n",
    "    ds = xr.open_dataset(os.path.join(input_dir, file))\n",
    "\n",
    "    # Clip to Canada bounds\n",
    "    ds = ds.sel(lat=slice(40, 85), lon=slice(-141, -52))\n",
    "\n",
    "    # Rename variable for consistency\n",
    "    if var_name in ds:\n",
    "        ds = ds.rename({var_name: \"fuel_emi\"})\n",
    "\n",
    "    # Only expand time if not already present\n",
    "    if \"time\" not in ds.dims:\n",
    "        ds = ds.expand_dims(time=[f\"{year}-01-01\"])\n",
    "\n",
    "    # Save processed file\n",
    "    output_file = os.path.join(output_dir, f\"CH4_AGR_{year}_Canada_Annual.nc\")\n",
    "    ds.to_netcdf(output_file)\n",
    "\n",
    "print(\"✅ DONE: All annual files processed and saved.\")\n"
   ]
  },
  {
   "cell_type": "code",
   "execution_count": null,
   "id": "80d7edd0-477b-4638-a288-a660d380ec59",
   "metadata": {},
   "outputs": [],
   "source": []
  },
  {
   "cell_type": "code",
   "execution_count": 10,
   "id": "aa8e7e34-6924-498a-b2aa-37f1fd628bdf",
   "metadata": {},
   "outputs": [
    {
     "name": "stdout",
     "output_type": "stream",
     "text": [
      "✅ Merged NetCDF saved to: CH4_FE_Canada_2010_2022.nc\n"
     ]
    }
   ],
   "source": [
    "import xarray as xr\n",
    "import os\n",
    "\n",
    "# Folder containing processed annual NetCDFs\n",
    "input_dir = \"processed_Fuel_Exploitation\"\n",
    "output_path = \"CH4_FE_Canada_2010_2022.nc\"\n",
    "\n",
    "# List all annual NetCDFs (sorted)\n",
    "files = sorted([\n",
    "    os.path.join(input_dir, f) \n",
    "    for f in os.listdir(input_dir) \n",
    "    if f.endswith(\".nc\")\n",
    "])\n",
    "\n",
    "# Open and concatenate along time dimension\n",
    "datasets = [xr.open_dataset(f) for f in files]\n",
    "merged = xr.concat(datasets, dim=\"time\")\n",
    "\n",
    "# Save merged dataset\n",
    "merged.to_netcdf(output_path)\n",
    "\n",
    "print(\"✅ Merged NetCDF saved to:\", output_path)\n"
   ]
  },
  {
   "cell_type": "code",
   "execution_count": null,
   "id": "873b8f35-48ba-4bda-98c0-383434729f1a",
   "metadata": {},
   "outputs": [],
   "source": []
  },
  {
   "cell_type": "code",
   "execution_count": 11,
   "id": "fc91a76c-e733-4ba5-8a22-7c68d3027ea5",
   "metadata": {},
   "outputs": [
    {
     "name": "stdout",
     "output_type": "stream",
     "text": [
      "<xarray.Dataset> Size: 250MB\n",
      "Dimensions:   (time: 156, lat: 450, lon: 890)\n",
      "Coordinates:\n",
      "  * lat       (lat) float64 4kB 40.05 40.15 40.25 40.35 ... 84.75 84.85 84.95\n",
      "  * lon       (lon) float64 7kB -140.9 -140.8 -140.8 ... -52.25 -52.15 -52.05\n",
      "  * time      (time) datetime64[ns] 1kB 2010-01-15 2010-02-15 ... 2022-12-15\n",
      "Data variables:\n",
      "    fuel_emi  (time, lat, lon) float32 250MB ...\n",
      "Attributes:\n",
      "    institution:       European Commission, Joint Research Centre\n",
      "    source:            https://edgar.jrc.ec.europa.eu/dataset_ghg80\n",
      "    how_to_cite:       https://edgar.jrc.ec.europa.eu/dataset_ghg80#howtocite\n",
      "    copyright_notice:  https://edgar.jrc.ec.europa.eu/dataset_ghg80#conditions\n",
      "    contacts:          https://edgar.jrc.ec.europa.eu/dataset_ghg80#info JRC-...\n"
     ]
    }
   ],
   "source": [
    "ds = xr.open_dataset(\"CH4_FE_Canada_2010_2022.nc\")\n",
    "print(ds)\n"
   ]
  },
  {
   "cell_type": "code",
   "execution_count": 12,
   "id": "7a69fddf-e5b2-40f2-8270-d35d13cf3da4",
   "metadata": {},
   "outputs": [
    {
     "name": "stdout",
     "output_type": "stream",
     "text": [
      "0.10000000000000142\n",
      "0.09999999999999432\n"
     ]
    }
   ],
   "source": [
    "print(ds['lat'].values[1] - ds['lat'].values[0])  # should be ~0.1\n",
    "print(ds['lon'].values[1] - ds['lon'].values[0])  # should be ~0.1\n"
   ]
  },
  {
   "cell_type": "code",
   "execution_count": 13,
   "id": "a183279b-6974-4263-a14e-1f1aa71114c7",
   "metadata": {
    "scrolled": true
   },
   "outputs": [
    {
     "name": "stdout",
     "output_type": "stream",
     "text": [
      "['2010-01-15T00:00:00.000000000' '2010-02-15T00:00:00.000000000'\n",
      " '2010-03-15T00:00:00.000000000' '2010-04-15T00:00:00.000000000'\n",
      " '2010-05-15T00:00:00.000000000' '2010-06-15T00:00:00.000000000'\n",
      " '2010-07-15T00:00:00.000000000' '2010-08-15T00:00:00.000000000'\n",
      " '2010-09-15T00:00:00.000000000' '2010-10-15T00:00:00.000000000'\n",
      " '2010-11-15T00:00:00.000000000' '2010-12-15T00:00:00.000000000'\n",
      " '2011-01-15T00:00:00.000000000' '2011-02-15T00:00:00.000000000'\n",
      " '2011-03-15T00:00:00.000000000' '2011-04-15T00:00:00.000000000'\n",
      " '2011-05-15T00:00:00.000000000' '2011-06-15T00:00:00.000000000'\n",
      " '2011-07-15T00:00:00.000000000' '2011-08-15T00:00:00.000000000'\n",
      " '2011-09-15T00:00:00.000000000' '2011-10-15T00:00:00.000000000'\n",
      " '2011-11-15T00:00:00.000000000' '2011-12-15T00:00:00.000000000'\n",
      " '2012-01-15T00:00:00.000000000' '2012-02-15T00:00:00.000000000'\n",
      " '2012-03-15T00:00:00.000000000' '2012-04-15T00:00:00.000000000'\n",
      " '2012-05-15T00:00:00.000000000' '2012-06-15T00:00:00.000000000'\n",
      " '2012-07-15T00:00:00.000000000' '2012-08-15T00:00:00.000000000'\n",
      " '2012-09-15T00:00:00.000000000' '2012-10-15T00:00:00.000000000'\n",
      " '2012-11-15T00:00:00.000000000' '2012-12-15T00:00:00.000000000'\n",
      " '2013-01-15T00:00:00.000000000' '2013-02-15T00:00:00.000000000'\n",
      " '2013-03-15T00:00:00.000000000' '2013-04-15T00:00:00.000000000'\n",
      " '2013-05-15T00:00:00.000000000' '2013-06-15T00:00:00.000000000'\n",
      " '2013-07-15T00:00:00.000000000' '2013-08-15T00:00:00.000000000'\n",
      " '2013-09-15T00:00:00.000000000' '2013-10-15T00:00:00.000000000'\n",
      " '2013-11-15T00:00:00.000000000' '2013-12-15T00:00:00.000000000'\n",
      " '2014-01-15T00:00:00.000000000' '2014-02-15T00:00:00.000000000'\n",
      " '2014-03-15T00:00:00.000000000' '2014-04-15T00:00:00.000000000'\n",
      " '2014-05-15T00:00:00.000000000' '2014-06-15T00:00:00.000000000'\n",
      " '2014-07-15T00:00:00.000000000' '2014-08-15T00:00:00.000000000'\n",
      " '2014-09-15T00:00:00.000000000' '2014-10-15T00:00:00.000000000'\n",
      " '2014-11-15T00:00:00.000000000' '2014-12-15T00:00:00.000000000'\n",
      " '2015-01-15T00:00:00.000000000' '2015-02-15T00:00:00.000000000'\n",
      " '2015-03-15T00:00:00.000000000' '2015-04-15T00:00:00.000000000'\n",
      " '2015-05-15T00:00:00.000000000' '2015-06-15T00:00:00.000000000'\n",
      " '2015-07-15T00:00:00.000000000' '2015-08-15T00:00:00.000000000'\n",
      " '2015-09-15T00:00:00.000000000' '2015-10-15T00:00:00.000000000'\n",
      " '2015-11-15T00:00:00.000000000' '2015-12-15T00:00:00.000000000'\n",
      " '2016-01-15T00:00:00.000000000' '2016-02-15T00:00:00.000000000'\n",
      " '2016-03-15T00:00:00.000000000' '2016-04-15T00:00:00.000000000'\n",
      " '2016-05-15T00:00:00.000000000' '2016-06-15T00:00:00.000000000'\n",
      " '2016-07-15T00:00:00.000000000' '2016-08-15T00:00:00.000000000'\n",
      " '2016-09-15T00:00:00.000000000' '2016-10-15T00:00:00.000000000'\n",
      " '2016-11-15T00:00:00.000000000' '2016-12-15T00:00:00.000000000'\n",
      " '2017-01-15T00:00:00.000000000' '2017-02-15T00:00:00.000000000'\n",
      " '2017-03-15T00:00:00.000000000' '2017-04-15T00:00:00.000000000'\n",
      " '2017-05-15T00:00:00.000000000' '2017-06-15T00:00:00.000000000'\n",
      " '2017-07-15T00:00:00.000000000' '2017-08-15T00:00:00.000000000'\n",
      " '2017-09-15T00:00:00.000000000' '2017-10-15T00:00:00.000000000'\n",
      " '2017-11-15T00:00:00.000000000' '2017-12-15T00:00:00.000000000'\n",
      " '2018-01-15T00:00:00.000000000' '2018-02-15T00:00:00.000000000'\n",
      " '2018-03-15T00:00:00.000000000' '2018-04-15T00:00:00.000000000'\n",
      " '2018-05-15T00:00:00.000000000' '2018-06-15T00:00:00.000000000'\n",
      " '2018-07-15T00:00:00.000000000' '2018-08-15T00:00:00.000000000'\n",
      " '2018-09-15T00:00:00.000000000' '2018-10-15T00:00:00.000000000'\n",
      " '2018-11-15T00:00:00.000000000' '2018-12-15T00:00:00.000000000'\n",
      " '2019-01-15T00:00:00.000000000' '2019-02-15T00:00:00.000000000'\n",
      " '2019-03-15T00:00:00.000000000' '2019-04-15T00:00:00.000000000'\n",
      " '2019-05-15T00:00:00.000000000' '2019-06-15T00:00:00.000000000'\n",
      " '2019-07-15T00:00:00.000000000' '2019-08-15T00:00:00.000000000'\n",
      " '2019-09-15T00:00:00.000000000' '2019-10-15T00:00:00.000000000'\n",
      " '2019-11-15T00:00:00.000000000' '2019-12-15T00:00:00.000000000'\n",
      " '2020-01-15T00:00:00.000000000' '2020-02-15T00:00:00.000000000'\n",
      " '2020-03-15T00:00:00.000000000' '2020-04-15T00:00:00.000000000'\n",
      " '2020-05-15T00:00:00.000000000' '2020-06-15T00:00:00.000000000'\n",
      " '2020-07-15T00:00:00.000000000' '2020-08-15T00:00:00.000000000'\n",
      " '2020-09-15T00:00:00.000000000' '2020-10-15T00:00:00.000000000'\n",
      " '2020-11-15T00:00:00.000000000' '2020-12-15T00:00:00.000000000'\n",
      " '2021-01-15T00:00:00.000000000' '2021-02-15T00:00:00.000000000'\n",
      " '2021-03-15T00:00:00.000000000' '2021-04-15T00:00:00.000000000'\n",
      " '2021-05-15T00:00:00.000000000' '2021-06-15T00:00:00.000000000'\n",
      " '2021-07-15T00:00:00.000000000' '2021-08-15T00:00:00.000000000'\n",
      " '2021-09-15T00:00:00.000000000' '2021-10-15T00:00:00.000000000'\n",
      " '2021-11-15T00:00:00.000000000' '2021-12-15T00:00:00.000000000'\n",
      " '2022-01-15T00:00:00.000000000' '2022-02-15T00:00:00.000000000'\n",
      " '2022-03-15T00:00:00.000000000' '2022-04-15T00:00:00.000000000'\n",
      " '2022-05-15T00:00:00.000000000' '2022-06-15T00:00:00.000000000'\n",
      " '2022-07-15T00:00:00.000000000' '2022-08-15T00:00:00.000000000'\n",
      " '2022-09-15T00:00:00.000000000' '2022-10-15T00:00:00.000000000'\n",
      " '2022-11-15T00:00:00.000000000' '2022-12-15T00:00:00.000000000']\n"
     ]
    }
   ],
   "source": [
    "print(ds['time'].values)\n"
   ]
  },
  {
   "cell_type": "code",
   "execution_count": null,
   "id": "016a8c3f-09cd-4093-9d62-fe9aaafed018",
   "metadata": {},
   "outputs": [],
   "source": []
  },
  {
   "cell_type": "code",
   "execution_count": 14,
   "id": "33fd195f-4d6d-402b-bb37-57d0f711c2aa",
   "metadata": {},
   "outputs": [
    {
     "name": "stdout",
     "output_type": "stream",
     "text": [
      "<xarray.Dataset> Size: 21MB\n",
      "Dimensions:   (time: 13, lat: 450, lon: 890)\n",
      "Coordinates:\n",
      "  * lat       (lat) float64 4kB 40.05 40.15 40.25 40.35 ... 84.75 84.85 84.95\n",
      "  * lon       (lon) float64 7kB -140.9 -140.8 -140.8 ... -52.25 -52.15 -52.05\n",
      "  * time      (time) datetime64[ns] 104B 2010-01-01 2011-01-01 ... 2022-01-01\n",
      "Data variables:\n",
      "    fuel_emi  (time, lat, lon) float32 21MB 0.003781 0.002827 ... 0.0 0.0\n",
      "Attributes:\n",
      "    institution:       European Commission, Joint Research Centre\n",
      "    source:            https://edgar.jrc.ec.europa.eu/dataset_ghg80\n",
      "    how_to_cite:       https://edgar.jrc.ec.europa.eu/dataset_ghg80#howtocite\n",
      "    copyright_notice:  https://edgar.jrc.ec.europa.eu/dataset_ghg80#conditions\n",
      "    contacts:          https://edgar.jrc.ec.europa.eu/dataset_ghg80#info JRC-...\n"
     ]
    }
   ],
   "source": [
    "import pandas as pd\n",
    "\n",
    "# Resample to annual mean (end of year)\n",
    "ds_ann = ds.resample(time=\"YE\").mean()\n",
    "\n",
    "# Fix the time values to use Jan 1st instead of Dec 31st\n",
    "new_time = [pd.Timestamp(t).replace(month=1, day=1) for t in ds_ann['time'].values]\n",
    "ds_ann = ds_ann.assign_coords(time=new_time)\n",
    "\n",
    "# Confirm\n",
    "print(ds_ann)\n"
   ]
  },
  {
   "cell_type": "code",
   "execution_count": 18,
   "id": "919d5cc5-ef05-473d-b826-e0145b2868fb",
   "metadata": {},
   "outputs": [],
   "source": [
    "ds_ann.to_netcdf(\"CH4_FE_Canada_Annual_2010_2022.nc\")"
   ]
  },
  {
   "cell_type": "code",
   "execution_count": null,
   "id": "5a80cdf1-41de-419d-8360-266a9a916e99",
   "metadata": {},
   "outputs": [],
   "source": []
  },
  {
   "cell_type": "markdown",
   "id": "81ac34f8-fb12-4080-b4db-45e97c6e1dd9",
   "metadata": {},
   "source": [
    "### Plan: Lightweight Custom AR(2) Model\n",
    "\n",
    "1. Load the original data (2010–2022).\n",
    "2. For each grid cell:\n",
    "\n",
    "   * Use last 2 years to fit a simple AR(2):\n",
    "\n",
    "     $$\n",
    "     y_t = a \\cdot y_{t-1} + b \\cdot y_{t-2}\n",
    "     $$\n",
    "3. Predict 2023 and 2024.\n",
    "4. Merge predictions to generate the final file.\n"
   ]
  },
  {
   "cell_type": "code",
   "execution_count": null,
   "id": "81ccbc56-e531-4b60-94bf-597584f2bbe0",
   "metadata": {},
   "outputs": [],
   "source": []
  },
  {
   "cell_type": "code",
   "execution_count": 21,
   "id": "88b5c1fe-7581-4329-b03a-2674bcc84bbf",
   "metadata": {},
   "outputs": [],
   "source": [
    "# Predicting the missing years \n",
    "\n",
    "\n",
    "import numpy as np\n",
    "# Step 1: Load the dataset\n",
    "ds = xr.open_dataset(\"CH4_FE_Canada_Annual_2010_2022.nc\")\n",
    "var_name = list(ds.data_vars)[0]\n",
    "da = ds[var_name]  # Shape: (time, lat, lon)\n",
    "\n",
    "# Step 2: Setup time for predictions\n",
    "pred_years = [2023, 2024]\n",
    "pred_times = pd.to_datetime([f\"{y}-01-01\" for y in pred_years])\n",
    "pred_array = np.full((len(pred_times), da.sizes[\"lat\"], da.sizes[\"lon\"]), np.nan)\n",
    "\n",
    "# Step 3: Custom AR(2) forecast for each grid cell\n",
    "for i in range(da.sizes[\"lat\"]):\n",
    "    for j in range(da.sizes[\"lon\"]):\n",
    "        y = da[:, i, j].values\n",
    "        if np.isnan(y).any():\n",
    "            continue  # Skip missing cells\n",
    "\n",
    "        # Fit AR(2) model: y[t] = a * y[t-1] + b * y[t-2]\n",
    "        y1, y2 = y[-1], y[-2]\n",
    "        a = (y1 / y2) if y2 != 0 else 1\n",
    "        b = 0.5  # Assume small persistence from y[t-2]\n",
    "        y_future = []\n",
    "\n",
    "        for _ in range(2):  # Predict 2023 and 2024\n",
    "            y_next = a * y1 + b * y2\n",
    "            y_future.append(y_next)\n",
    "            y2, y1 = y1, y_next\n",
    "\n",
    "        pred_array[:, i, j] = y_future\n",
    "\n",
    "# Step 4: Create prediction DataArray\n",
    "pred_da = xr.DataArray(\n",
    "    pred_array,\n",
    "    coords={\"time\": pred_times, \"lat\": da.lat, \"lon\": da.lon},\n",
    "    dims=[\"time\", \"lat\", \"lon\"],\n",
    "    name=var_name\n",
    ")\n",
    "\n",
    "# Step 5: Merge original + predictions and save\n",
    "merged = xr.concat([da, pred_da], dim=\"time\").to_dataset(name=var_name)\n",
    "merged.to_netcdf(\"CH4_FE_Canada_Annual_2010_2024.nc\")\n"
   ]
  },
  {
   "cell_type": "code",
   "execution_count": null,
   "id": "11abd5dd-b3b8-4f53-aae4-7dfa8cdad99b",
   "metadata": {},
   "outputs": [],
   "source": []
  },
  {
   "cell_type": "code",
   "execution_count": 22,
   "id": "40fe411f-ac79-4b4c-9549-f9f8fb19c20d",
   "metadata": {},
   "outputs": [
    {
     "name": "stdout",
     "output_type": "stream",
     "text": [
      "Data variables:\n",
      "    fuel_emi  (time, lat, lon) float32 24MB ...\n",
      "Raw range: 0.0 to 2489960045215744.0\n"
     ]
    }
   ],
   "source": [
    "import xarray as xr\n",
    "\n",
    "ds = xr.open_dataset(\"CH4_FE_Canada_Annual_2010_2024.nc\")\n",
    "print(ds.data_vars)  # Find actual variable name (e.g., 'fuel_emi', 'emissions')\n",
    "\n",
    "# Preview actual range\n",
    "fuel = ds['fuel_emi']\n",
    "print(\"Raw range:\", float(fuel.min()), \"to\", float(fuel.max()))\n"
   ]
  },
  {
   "cell_type": "code",
   "execution_count": null,
   "id": "b6320a0a-a25e-47e6-97bc-24ac7ce239b8",
   "metadata": {},
   "outputs": [],
   "source": []
  }
 ],
 "metadata": {
  "kernelspec": {
   "display_name": "Python 3 (ipykernel)",
   "language": "python",
   "name": "python3"
  },
  "language_info": {
   "codemirror_mode": {
    "name": "ipython",
    "version": 3
   },
   "file_extension": ".py",
   "mimetype": "text/x-python",
   "name": "python",
   "nbconvert_exporter": "python",
   "pygments_lexer": "ipython3",
   "version": "3.11.5"
  }
 },
 "nbformat": 4,
 "nbformat_minor": 5
}
