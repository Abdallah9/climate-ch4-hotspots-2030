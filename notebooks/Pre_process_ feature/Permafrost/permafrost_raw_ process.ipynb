{
 "cells": [
  {
   "cell_type": "code",
   "execution_count": 1,
   "id": "6e05d7b6-7d05-4d2f-bf88-beceecace104",
   "metadata": {},
   "outputs": [
    {
     "name": "stdout",
     "output_type": "stream",
     "text": [
      "<xarray.Dataset> Size: 2GB\n",
      "Dimensions:          (time: 1, lat: 6000, lon: 36000)\n",
      "Coordinates:\n",
      "  * time             (time) datetime64[ns] 8B 2010-01-01\n",
      "  * lat              (lat) float32 24kB 25.0 25.01 25.02 ... 84.97 84.98 84.99\n",
      "  * lon              (lon) float32 144kB -180.0 -180.0 -180.0 ... 180.0 180.0\n",
      "Data variables:\n",
      "    spatial_ref      float64 8B ...\n",
      "    PFR              (time, lat, lon) float32 864MB ...\n",
      "    PFR_uncertainty  (time, lat, lon) float32 864MB ...\n",
      "Attributes: (12/39)\n",
      "    title:                      CCI Permafrost extent\n",
      "    institution:                University of Oslo\n",
      "    source:                     MODIS MOD11A1 and MYD11A1 level 3 Collection ...\n",
      "    history:                    2024-03-20 13:57:43\n",
      "    references:                 http://cci.esa.int/Permafrost, https://doi.or...\n",
      "    tracking_id:                9efb3c35-33fa-4fd0-a1be-bbadbf475675\n",
      "    ...                         ...\n",
      "    geospatial_lat_units:       degrees_north\n",
      "    geospatial_lon_units:       degrees_east\n",
      "    geospatial_lon_resolution:  0.01\n",
      "    geospatial_lat_resolution:  0.01\n",
      "    key_variables:              permafrost fraction\n",
      "    format_version:             CCI Data Standards v2.3\n"
     ]
    }
   ],
   "source": [
    "import xarray as xr\n",
    "\n",
    "# Load the file\n",
    "ds = xr.open_dataset(\"ESACCI-PERMAFROST-L4-PFR-MODISLST_CRYOGRID-AREA4_PP-2010-fv04.0.nc\")\n",
    "print(ds)\n"
   ]
  },
  {
   "cell_type": "code",
   "execution_count": null,
   "id": "8722f9fa-b41d-451f-a7c3-7c78ec7cb32e",
   "metadata": {},
   "outputs": [],
   "source": []
  },
  {
   "cell_type": "code",
   "execution_count": 6,
   "id": "ef2af752-f4ad-4f31-a943-25febfd1323b",
   "metadata": {},
   "outputs": [
    {
     "name": "stdout",
     "output_type": "stream",
     "text": [
      "Processing 2010...\n",
      "Processing 2011...\n",
      "Processing 2012...\n",
      "Processing 2013...\n",
      "Processing 2014...\n",
      "Processing 2015...\n",
      "Processing 2016...\n",
      "Processing 2017...\n",
      "Processing 2018...\n",
      "Processing 2019...\n",
      "Processing 2020...\n",
      "Processing 2021...\n",
      "✅ DONE: All annual Permafrost files processed and saved.\n"
     ]
    }
   ],
   "source": [
    "import xarray as xr\n",
    "import os\n",
    "\n",
    "# --- Paths ---\n",
    "input_dir = \"./\"\n",
    "output_dir = \"processed_Permafrost\"\n",
    "os.makedirs(output_dir, exist_ok=True)\n",
    "\n",
    "# --- Settings ---\n",
    "var_name = \"PFR\"\n",
    "years = list(range(2010, 2022))  # 2010–2021\n",
    "\n",
    "# --- Process Each File ---\n",
    "for year in years:\n",
    "    print(f\"Processing {year}...\")\n",
    "\n",
    "    file = f\"ESACCI-PERMAFROST-L4-PFR-MODISLST_CRYOGRID-AREA4_PP-{year}-fv04.0.nc\"\n",
    "    filepath = os.path.join(input_dir, file)\n",
    "    ds = xr.open_dataset(filepath)\n",
    "\n",
    "    # Clip to Canada bounding box\n",
    "    ds = ds.sel(lat=slice(40, 85), lon=slice(-141, -52))\n",
    "\n",
    "    # Rename variable for consistency\n",
    "    if var_name in ds:\n",
    "        ds = ds.rename({var_name: \"permafrost_fraction\"})\n",
    "\n",
    "    # Add time dimension if needed\n",
    "    if \"time\" not in ds.dims:\n",
    "        ds = ds.expand_dims(time=[f\"{year}-01-01\"])\n",
    "\n",
    "    # Save processed file\n",
    "    output_file = os.path.join(output_dir, f\"PERMAFROST_{year}_Canada_Annual.nc\")\n",
    "    ds.to_netcdf(output_file)\n",
    "\n",
    "print(\"✅ DONE: All annual Permafrost files processed and saved.\")\n"
   ]
  },
  {
   "cell_type": "code",
   "execution_count": null,
   "id": "4169535f-ba81-4aba-8840-771cfd47d0d1",
   "metadata": {},
   "outputs": [],
   "source": []
  },
  {
   "cell_type": "code",
   "execution_count": 7,
   "id": "694167dd-59fb-47c4-8997-ef0aa6624591",
   "metadata": {},
   "outputs": [
    {
     "name": "stdout",
     "output_type": "stream",
     "text": [
      "✅ DONE: Merged Permafrost dataset saved as PERMAFROST_Canada_Annual_2010_2021.nc\n"
     ]
    }
   ],
   "source": [
    "import xarray as xr\n",
    "import os\n",
    "import glob\n",
    "\n",
    "# Define path to processed permafrost files\n",
    "input_dir = \"processed_Permafrost\"\n",
    "output_filename = \"PERMAFROST_Canada_Annual_2010_2021.nc\"\n",
    "\n",
    "# Get list of annual files (sorted by year)\n",
    "file_list = sorted(glob.glob(os.path.join(input_dir, \"PERMAFROST_*_Canada_Annual.nc\")))\n",
    "\n",
    "# Open and merge along 'time' dimension\n",
    "ds_merged = xr.concat([xr.open_dataset(f) for f in file_list], dim=\"time\")\n",
    "\n",
    "# Save merged NetCDF\n",
    "ds_merged.to_netcdf(os.path.join(input_dir, output_filename))\n",
    "\n",
    "print(\"✅ DONE: Merged Permafrost dataset saved as\", output_filename)\n"
   ]
  },
  {
   "cell_type": "code",
   "execution_count": null,
   "id": "aa6cb80a-39c6-4ee7-8a46-bc18bccfad59",
   "metadata": {},
   "outputs": [],
   "source": []
  },
  {
   "cell_type": "markdown",
   "id": "4683a686-2264-42ba-a85a-3859396c3d0f",
   "metadata": {},
   "source": [
    "### Plan: Lightweight Custom AR(2) Model\n",
    "\n",
    "1. Load the original data (2010–2022).\n",
    "2. For each grid cell:\n",
    "\n",
    "   * Use last 2 years to fit a simple AR(2):\n",
    "\n",
    "     $$\n",
    "     y_t = a \\cdot y_{t-1} + b \\cdot y_{t-2}\n",
    "     $$\n",
    "3. Predict 2023 and 2024.\n",
    "4. Merge predictions to generate the final file."
   ]
  },
  {
   "cell_type": "code",
   "execution_count": null,
   "id": "4bc609ff-2812-4d0f-913a-919264cd99f7",
   "metadata": {},
   "outputs": [],
   "source": []
  },
  {
   "cell_type": "code",
   "execution_count": 20,
   "id": "af780822-9302-4855-91be-09fd80f7dd17",
   "metadata": {},
   "outputs": [
    {
     "name": "stdout",
     "output_type": "stream",
     "text": [
      "✅ Done: Saved forecasted 2010–2024 NetCDF: PERMAFROST_Canada_Annual_2010_2024.nc\n"
     ]
    }
   ],
   "source": [
    "import xarray as xr\n",
    "import numpy as np\n",
    "import os\n",
    "\n",
    "# Paths\n",
    "input_dir = \"processed_Permafrost\"\n",
    "output_file = \"PERMAFROST_Canada_Annual_2010_2024.nc\"\n",
    "var_name = \"permafrost_fraction\"\n",
    "\n",
    "# Step 1: Load 2010–2021\n",
    "full_years = list(range(2010, 2022))\n",
    "datasets = []\n",
    "for year in full_years:\n",
    "    file = os.path.join(input_dir, f\"PERMAFROST_{year}_Canada_Annual.nc\")\n",
    "    ds = xr.open_dataset(file)\n",
    "    datasets.append(ds)\n",
    "\n",
    "# Combine into single dataset\n",
    "ds_all = xr.concat(datasets, dim=\"time\")\n",
    "ds_all[\"time\"] = np.array(full_years)\n",
    "\n",
    "# Step 2: AR(2) Prediction Function\n",
    "def predict_ar2(series):\n",
    "    y = series.copy()\n",
    "    for _ in range(3):  # predict 3 future years\n",
    "        if len(y) < 2 or np.isnan(y[-1]) or np.isnan(y[-2]):\n",
    "            y = np.append(y, np.nan)\n",
    "        else:\n",
    "            a, b = 0.7, 0.3  # weights\n",
    "            pred = a * y[-1] + b * y[-2]\n",
    "            y = np.append(y, pred)\n",
    "    return y[-3:]\n",
    "\n",
    "# Step 3: Apply per grid cell\n",
    "values = ds_all[var_name].values  # shape (years, lat, lon)\n",
    "predicted = np.full((3, *values.shape[1:]), np.nan)\n",
    "\n",
    "for i in range(values.shape[1]):       # latitude\n",
    "    for j in range(values.shape[2]):   # longitude\n",
    "        series = values[:, i, j]\n",
    "        preds = predict_ar2(series)\n",
    "        predicted[:, i, j] = preds\n",
    "\n",
    "# Step 4: Add predictions to dataset\n",
    "years_future = [2022, 2023, 2024]\n",
    "ds_pred = xr.Dataset(\n",
    "    {\n",
    "        var_name: ([\"time\", \"lat\", \"lon\"], predicted)\n",
    "    },\n",
    "    coords={\n",
    "        \"time\": years_future,\n",
    "        \"lat\": ds_all.lat,\n",
    "        \"lon\": ds_all.lon\n",
    "    }\n",
    ")\n",
    "\n",
    "# Merge original + predicted\n",
    "ds_full = xr.concat([ds_all, ds_pred], dim=\"time\")\n",
    "ds_full.to_netcdf(output_file)\n",
    "\n",
    "print(\"✅ Done: Saved forecasted 2010–2024 NetCDF:\", output_file)\n"
   ]
  },
  {
   "cell_type": "code",
   "execution_count": null,
   "id": "204b58f3-e66c-49ad-9177-fca230187b39",
   "metadata": {},
   "outputs": [],
   "source": []
  },
  {
   "cell_type": "code",
   "execution_count": 21,
   "id": "8e27a140-79a7-4768-b43c-b8cf4db6dfe6",
   "metadata": {},
   "outputs": [
    {
     "name": "stdout",
     "output_type": "stream",
     "text": [
      "<xarray.Dataset> Size: 5GB\n",
      "Dimensions:              (time: 15, lat: 4500, lon: 8900)\n",
      "Coordinates:\n",
      "  * time                 (time) int64 120B 2010 2011 2012 ... 2022 2023 2024\n",
      "  * lat                  (lat) float32 18kB 40.01 40.01 40.03 ... 84.98 84.99\n",
      "  * lon                  (lon) float32 36kB -141.0 -141.0 ... -52.02 -52.01\n",
      "Data variables:\n",
      "    spatial_ref          (time) float64 120B ...\n",
      "    permafrost_fraction  (time, lat, lon) float32 2GB ...\n",
      "    PFR_uncertainty      (time, lat, lon) float32 2GB ...\n",
      "Attributes: (12/39)\n",
      "    title:                      CCI Permafrost extent\n",
      "    institution:                University of Oslo\n",
      "    source:                     MODIS MOD11A1 and MYD11A1 level 3 Collection ...\n",
      "    history:                    2024-03-20 13:57:43\n",
      "    references:                 http://cci.esa.int/Permafrost, https://doi.or...\n",
      "    tracking_id:                9efb3c35-33fa-4fd0-a1be-bbadbf475675\n",
      "    ...                         ...\n",
      "    geospatial_lat_units:       degrees_north\n",
      "    geospatial_lon_units:       degrees_east\n",
      "    geospatial_lon_resolution:  0.01\n",
      "    geospatial_lat_resolution:  0.01\n",
      "    key_variables:              permafrost fraction\n",
      "    format_version:             CCI Data Standards v2.3\n"
     ]
    }
   ],
   "source": [
    "# Load the file\n",
    "ds = xr.open_dataset(\"PERMAFROST_Canada_Annual_2010_2024.nc\")\n",
    "print(ds)\n"
   ]
  },
  {
   "cell_type": "code",
   "execution_count": null,
   "id": "c10c231e-11ec-45dc-a19f-47a1fb0cca63",
   "metadata": {},
   "outputs": [],
   "source": []
  },
  {
   "cell_type": "code",
   "execution_count": null,
   "id": "7c18e7aa-c5b9-46ff-a341-4b8cffb42717",
   "metadata": {},
   "outputs": [],
   "source": [
    "Forecast 2022–2024 values\n",
    "Export the result as a new NetCDF  "
   ]
  }
 ],
 "metadata": {
  "kernelspec": {
   "display_name": "Python 3 (ipykernel)",
   "language": "python",
   "name": "python3"
  },
  "language_info": {
   "codemirror_mode": {
    "name": "ipython",
    "version": 3
   },
   "file_extension": ".py",
   "mimetype": "text/x-python",
   "name": "python",
   "nbconvert_exporter": "python",
   "pygments_lexer": "ipython3",
   "version": "3.11.5"
  }
 },
 "nbformat": 4,
 "nbformat_minor": 5
}
